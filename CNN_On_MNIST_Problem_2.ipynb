{
  "nbformat": 4,
  "nbformat_minor": 0,
  "metadata": {
    "colab": {
      "name": "CNN_On_MNIST_Problem-2.ipynb",
      "version": "0.3.2",
      "provenance": []
    },
    "kernelspec": {
      "name": "python3",
      "display_name": "Python 3"
    },
    "accelerator": "GPU"
  },
  "cells": [
    {
      "metadata": {
        "id": "UcuFB-vccia7",
        "colab_type": "text"
      },
      "cell_type": "markdown",
      "source": [
        "<center><h1> Problem2 - CNN on MNIST </h1><center>"
      ]
    },
    {
      "metadata": {
        "id": "92S9U4rUcibA",
        "colab_type": "text"
      },
      "cell_type": "markdown",
      "source": [
        "### Import the required packages"
      ]
    },
    {
      "metadata": {
        "id": "cjTyS3ZdcibD",
        "colab_type": "code",
        "outputId": "70b8217a-26b8-4f10-d8a9-a721677b4f3e",
        "colab": {
          "base_uri": "https://localhost:8080/",
          "height": 34
        }
      },
      "cell_type": "code",
      "source": [
        "import tensorflow as tf\n",
        "\n",
        "#To check if tensorflow can access the gpu\n",
        "device_name = tf.test.gpu_device_name()\n",
        "if device_name != '/device:GPU:0':\n",
        "  raise SystemError('GPU device not found')\n",
        "print('Found GPU at: {}'.format(device_name))\n",
        "\n",
        "import numpy as np\n",
        "import matplotlib.pyplot as plt\n",
        "%matplotlib inline\n",
        "import time"
      ],
      "execution_count": 31,
      "outputs": [
        {
          "output_type": "stream",
          "text": [
            "Found GPU at: /device:GPU:0\n"
          ],
          "name": "stdout"
        }
      ]
    },
    {
      "metadata": {
        "id": "sq8yfD0ZcibP",
        "colab_type": "text"
      },
      "cell_type": "markdown",
      "source": [
        "### Load MNIST Data"
      ]
    },
    {
      "metadata": {
        "id": "TS2uoh5NcibS",
        "colab_type": "code",
        "outputId": "bb423343-c5c8-495c-ce56-165c494a5282",
        "colab": {
          "base_uri": "https://localhost:8080/",
          "height": 85
        }
      },
      "cell_type": "code",
      "source": [
        "from tensorflow.examples.tutorials.mnist import input_data\n",
        "data = input_data.read_data_sets('data/MNIST/', one_hot=True)"
      ],
      "execution_count": 32,
      "outputs": [
        {
          "output_type": "stream",
          "text": [
            "Extracting data/MNIST/train-images-idx3-ubyte.gz\n",
            "Extracting data/MNIST/train-labels-idx1-ubyte.gz\n",
            "Extracting data/MNIST/t10k-images-idx3-ubyte.gz\n",
            "Extracting data/MNIST/t10k-labels-idx1-ubyte.gz\n"
          ],
          "name": "stdout"
        }
      ]
    },
    {
      "metadata": {
        "id": "YzsiaaAEtguy",
        "colab_type": "text"
      },
      "cell_type": "markdown",
      "source": [
        "### Check the train-valid-test data size"
      ]
    },
    {
      "metadata": {
        "id": "ReDb5xi5cibd",
        "colab_type": "code",
        "outputId": "d7ab6310-254d-4362-b34e-14500993ead2",
        "colab": {
          "base_uri": "https://localhost:8080/",
          "height": 68
        }
      },
      "cell_type": "code",
      "source": [
        "print(\"Num of samples-Train: {}\".format(len(data.train.labels)))\n",
        "print(\"Num of samples-Test: {}\".format(len(data.test.labels)))\n",
        "print(\"Num of samples-Valid: {}\".format(len(data.validation.labels)))"
      ],
      "execution_count": 33,
      "outputs": [
        {
          "output_type": "stream",
          "text": [
            "Num of samples-Train: 55000\n",
            "Num of samples-Test: 10000\n",
            "Num of samples-Valid: 5000\n"
          ],
          "name": "stdout"
        }
      ]
    },
    {
      "metadata": {
        "collapsed": true,
        "id": "jIGNR3UIcibt",
        "colab_type": "text"
      },
      "cell_type": "markdown",
      "source": [
        "### Initalization of the placeholder variables"
      ]
    },
    {
      "metadata": {
        "id": "js9CeQAWcibw",
        "colab_type": "code",
        "colab": {}
      },
      "cell_type": "code",
      "source": [
        "x = tf.placeholder(tf.float32, shape=[None, 28*28], name='X')\n",
        "x_image = tf.reshape(x, [-1, 28, 28, 1])\n",
        "\n",
        "y_true = tf.placeholder(tf.float32, shape=[None, 10], name='y_true')\n",
        "y_true_cls = tf.argmax(y_true, dimension=1)"
      ],
      "execution_count": 0,
      "outputs": []
    },
    {
      "metadata": {
        "id": "wxYaKUeqcib2",
        "colab_type": "text"
      },
      "cell_type": "markdown",
      "source": [
        "### Functions to create basic CNN layers"
      ]
    },
    {
      "metadata": {
        "id": "cDqWcULhcib5",
        "colab_type": "code",
        "colab": {}
      },
      "cell_type": "code",
      "source": [
        "#Create convolution layer\n",
        "def conv_layer(input, num_input_channels, filter_size, num_filters, name):\n",
        "    \n",
        "    #Filter-shape\n",
        "    shape = [filter_size, filter_size, num_input_channels, num_filters]\n",
        "\n",
        "    # Weights and Biases\n",
        "    weights = tf.Variable(tf.truncated_normal(shape, stddev=0.05))\n",
        "    #weights = tf.Variable(tf.constant(0, shape))\n",
        "    biases = tf.Variable(tf.constant(0.01, shape=[num_filters]))\n",
        "\n",
        "    layer = tf.nn.conv2d(input=input, filter=weights, strides=[1, 1, 1, 1], padding='SAME')\n",
        "    layer += biases\n",
        "\n",
        "    return layer, weights\n",
        "\n",
        "#Create pool layer      \n",
        "def pool_layer(input, name):\n",
        "    \n",
        "    layer = tf.nn.max_pool(value=input, ksize=[1, 2, 2, 1], strides=[1, 2, 2, 1], padding='SAME')\n",
        "\n",
        "    return layer\n",
        "\n",
        "#Create ReLU Activation Layer\n",
        "def relu_layer(input, name):\n",
        "\n",
        "    layer = tf.nn.relu(input)\n",
        "\n",
        "    return layer\n",
        "\n",
        "#Create Fully Connected Layer\n",
        "def fc_layer(input, num_inputs, num_outputs, name):\n",
        "    \n",
        "    weights = tf.Variable(tf.truncated_normal([num_inputs, num_outputs], stddev=0.05))\n",
        "    biases = tf.Variable(tf.constant(0.01, shape=[num_outputs]))\n",
        "\n",
        "    layer = tf.matmul(input, weights) + biases\n",
        "\n",
        "    return layer"
      ],
      "execution_count": 0,
      "outputs": []
    },
    {
      "metadata": {
        "id": "73foXeg8cicY",
        "colab_type": "text"
      },
      "cell_type": "markdown",
      "source": [
        "###  Convolutional Neural Network - Architecture for Classification - 4 Conv layers"
      ]
    },
    {
      "metadata": {
        "id": "M41kHmSvcicZ",
        "colab_type": "code",
        "outputId": "97fc2d43-711e-4dc6-be29-499be9823d1b",
        "colab": {
          "base_uri": "https://localhost:8080/",
          "height": 54
        }
      },
      "cell_type": "code",
      "source": [
        "'''\n",
        "# Convolution 1\n",
        "conv1, weights_conv1 = conv_layer(input=x_image, num_input_channels=1, filter_size=5, num_filters=8, name =\"conv1\")\n",
        "pool1 = pool_layer(conv1, name=\"pool1\")\n",
        "relu1 = relu_layer(pool1, name=\"relu1\")\n",
        "\n",
        "# Convolution 2\n",
        "conv2, weights_conv2 = conv_layer(input=relu1, num_input_channels=8, filter_size=5, num_filters=16, name= \"conv2\")\n",
        "pool2 = pool_layer(conv2, name=\"pool2\")\n",
        "relu2 = relu_layer(pool2, name=\"relu2\")\n",
        "\n",
        "# Convolution 3\n",
        "conv3, weights_conv3 = conv_layer(input=relu2, num_input_channels=16, filter_size=5, num_filters=32, name= \"conv3\")\n",
        "pool3 = pool_layer(conv3, name=\"pool3\")\n",
        "relu3 = relu_layer(pool3, name=\"relu3\")\n",
        "\n",
        "# Convolution 4\n",
        "conv4, weights_conv4 = conv_layer(input=relu3, num_input_channels=32, filter_size=5, num_filters=64, name= \"conv4\")\n",
        "pool4 = pool_layer(conv4, name=\"pool4\")\n",
        "relu4 = relu_layer(pool4, name=\"relu4\")\n",
        "\n",
        "# Flatten Layer\n",
        "num_features = relu4.get_shape()[1:4].num_elements()\n",
        "flat = tf.reshape(relu4, [-1, num_features])\n",
        "\n",
        "# Fully-Connected Layer 1\n",
        "fc1 = fc_layer(flat, num_inputs=num_features, num_outputs=128, name=\"fc1\")\n",
        "relu5 = relu_layer(fc1, name=\"relu5\")\n",
        "\n",
        "# Fully-Connected Layer 2\n",
        "fc2 = fc_layer(input=relu5, num_inputs=128, num_outputs=10, name=\"fc2\")\n",
        "'''\n"
      ],
      "execution_count": 36,
      "outputs": [
        {
          "output_type": "execute_result",
          "data": {
            "text/plain": [
              "'\\n# Convolution 1\\nconv1, weights_conv1 = conv_layer(input=x_image, num_input_channels=1, filter_size=5, num_filters=8, name =\"conv1\")\\npool1 = pool_layer(conv1, name=\"pool1\")\\nrelu1 = relu_layer(pool1, name=\"relu1\")\\n\\n# Convolution 2\\nconv2, weights_conv2 = conv_layer(input=relu1, num_input_channels=8, filter_size=5, num_filters=16, name= \"conv2\")\\npool2 = pool_layer(conv2, name=\"pool2\")\\nrelu2 = relu_layer(pool2, name=\"relu2\")\\n\\n# Convolution 3\\nconv3, weights_conv3 = conv_layer(input=relu2, num_input_channels=16, filter_size=5, num_filters=32, name= \"conv3\")\\npool3 = pool_layer(conv3, name=\"pool3\")\\nrelu3 = relu_layer(pool3, name=\"relu3\")\\n\\n# Convolution 4\\nconv4, weights_conv4 = conv_layer(input=relu3, num_input_channels=32, filter_size=5, num_filters=64, name= \"conv4\")\\npool4 = pool_layer(conv4, name=\"pool4\")\\nrelu4 = relu_layer(pool4, name=\"relu4\")\\n\\n# Flatten Layer\\nnum_features = relu4.get_shape()[1:4].num_elements()\\nflat = tf.reshape(relu4, [-1, num_features])\\n\\n# Fully-Connected Layer 1\\nfc1 = fc_layer(flat, num_inputs=num_features, num_outputs=128, name=\"fc1\")\\nrelu5 = relu_layer(fc1, name=\"relu5\")\\n\\n# Fully-Connected Layer 2\\nfc2 = fc_layer(input=relu5, num_inputs=128, num_outputs=10, name=\"fc2\")\\n'"
            ]
          },
          "metadata": {
            "tags": []
          },
          "execution_count": 36
        }
      ]
    },
    {
      "metadata": {
        "id": "r345xE5Fa2cR",
        "colab_type": "text"
      },
      "cell_type": "markdown",
      "source": [
        "###Convolutional Neural Network - Architecture for Classification - 3 Conv layers"
      ]
    },
    {
      "metadata": {
        "id": "vCQ9xZrUadwm",
        "colab_type": "code",
        "colab": {}
      },
      "cell_type": "code",
      "source": [
        "# Convolution 1\n",
        "conv1, weights_conv1 = conv_layer(input=x_image, num_input_channels=1, filter_size=7, num_filters=8, name =\"conv1\")\n",
        "pool1 = pool_layer(conv1, name=\"pool1\")\n",
        "relu1 = relu_layer(pool1, name=\"relu1\")\n",
        "\n",
        "# Convolution 2\n",
        "conv2, weights_conv2 = conv_layer(input=relu1, num_input_channels=8, filter_size=7, num_filters=32, name= \"conv2\")\n",
        "pool2 = pool_layer(conv2, name=\"pool2\")\n",
        "relu2 = relu_layer(pool2, name=\"relu2\")\n",
        "\n",
        "# Convolution 3\n",
        "conv3, weights_conv3 = conv_layer(input=relu2, num_input_channels=32, filter_size=7, num_filters=64, name= \"conv3\")\n",
        "pool3 = pool_layer(conv3, name=\"pool3\")\n",
        "relu3 = relu_layer(pool3, name=\"relu3\")\n",
        "\n",
        "# Flatten Layer\n",
        "num_features = relu3.get_shape()[1:4].num_elements()\n",
        "flat = tf.reshape(relu3, [-1, num_features])\n",
        "\n",
        "# Fully-Connected Layer 1\n",
        "fc1 = fc_layer(flat, num_inputs=num_features, num_outputs=128, name=\"fc1\")\n",
        "relu4 = relu_layer(fc1, name=\"relu4\")\n",
        "\n",
        "# Fully-Connected Layer 2\n",
        "fc2 = fc_layer(input=relu4, num_inputs=128, num_outputs=10, name=\"fc2\")"
      ],
      "execution_count": 0,
      "outputs": []
    },
    {
      "metadata": {
        "id": "q11PKhpchZ8Y",
        "colab_type": "text"
      },
      "cell_type": "markdown",
      "source": [
        "###  Parameter count in the 4 layer CNN(5x5 kernel)\n",
        "\n",
        "\n",
        "  \n",
        "  | Name                                        | size                                              |parameters                                              |\n",
        "| ---------------------------------------------- |:-----------------------------------------------:| -----------------------------------------------------------:|\n",
        "| 0  input      | 1x28x28 | 0 |\n",
        "| 1  conv2d1     |  8x28x28       |   (5x5x1+1)*8   =     208 |\n",
        "| 2  maxpool1 |  8x28x28       |    0 |\n",
        "| 3  conv2d2     |  16x28x28       |    (5x5x8+1)x16  =   3216 |\n",
        "| 4  maxpool2 |  16x28x28            |    0 |\n",
        "| 5  conv2d3     |  32x28x28       |    (5x5x16+1)x32  =   12832 |\n",
        "| 6  maxpool3 |  32x28x28            |    0 |\n",
        "| 7  conv2d4     |  64x28x28       |    (5x5x32+1)x64  =   51264 |\n",
        "| 8  maxpool4 |  64x28x28            |    0 |\n",
        "|9  dense  |128   | (64x5x5+1)*128 = 204928 |\n",
        "| 10  output |10 |(128+1)x10     =   1290 |\n",
        "\n",
        "|Total number of learnable parameters in the CNN|Train Accuracy|Validation Accuracy|\n",
        "|-------------------------------------------------------------------------------|------------------------|--------------------------------|\n",
        "| 2,73,738|99.43 |97.89 |\n",
        "\n",
        "\n",
        "###  Parameter count in the 4 layer CNN(7x7 kernel)\n",
        "\n",
        "\n",
        "  \n",
        "  | Name                                        | size                                              |parameters                                              |\n",
        "| ---------------------------------------------- |:-----------------------------------------------:| -----------------------------------------------------------:|\n",
        "| 0  input      | 1x28x28 | 0 |\n",
        "| 1  conv2d1     |  8x28x28       |   (7x7x1+1)*8   =     400 |\n",
        "| 2  maxpool1 |  8x28x28       |    0 |\n",
        "| 3  conv2d2     |  16x28x28       |    (7x7x8+1)x16  =   6288 |\n",
        "| 4  maxpool2 |  16x28x28            |    0 |\n",
        "| 5  conv2d3     |  32x28x28       |    (7x7x16+1)x32  =   25120 |\n",
        "| 6  maxpool3 |  32x28x28            |    0 |\n",
        "| 7  conv2d4     |  64x28x28       |    (7x7x32+1)x64  =   100416|\n",
        "| 8  maxpool4 |  64x28x28            |    0 |\n",
        "|9  dense  |128   | (64x7x7+1)*128 = 401536 |\n",
        "| 10  output |10 |(128+1)x10     =   1290 |\n",
        "\n",
        "|Total number of learnable parameters in the CNN|Train Accuracy|Validation Accuracy|\n",
        "|-------------------------------------------------------------------------------|------------------------|--------------------------------|\n",
        "| 5,35,050|99.60 |98.32 |\n",
        "\n",
        "###  Parameter count in the 3 layer CNN(7x7 kernel)\n",
        "\n",
        "\n",
        "  \n",
        "  | Name                                        | size                                              |parameters                                              |\n",
        "| ---------------------------------------------- |:-----------------------------------------------:| -----------------------------------------------------------:|\n",
        "| 0  input      | 1x28x28 | 0 |\n",
        "| 1  conv2d1     |  8x28x28       |   (7x7x1+1)*8   =     400 |\n",
        "| 2  maxpool1 |  8x28x28       |    0 |\n",
        "| 3  conv2d2     |  32x28x28       |    (7x7x8+1)x32  =   12576 |\n",
        "| 4  maxpool2 |  32x28x28            |    0 |\n",
        "| 5  conv2d3     |  64x28x28       |    (7x7x32+1)x64  =   100416 |\n",
        "| 6  maxpool3 |  64x28x28            |    0 |\n",
        "|7  dense  |128   | (64x7x7+1)*128 = 401536 |\n",
        "| 8  output |10 |(128+1)x10     =   1290 |\n",
        "\n",
        "|Total number of learnable parameters in the CNN|Train Accuracy|Validation Accuracy|\n",
        "|-------------------------------------------------------------------------------|------------------------|--------------------------------|\n",
        "| 5,16,218|99.74 |98.40 |"
      ]
    },
    {
      "metadata": {
        "id": "XGTKiU6d7UZq",
        "colab_type": "text"
      },
      "cell_type": "markdown",
      "source": [
        "### Output Parameterization, Loss Calculation, Optimization ,Evaluation"
      ]
    },
    {
      "metadata": {
        "id": "9mCfLrD9iR7u",
        "colab_type": "code",
        "colab": {}
      },
      "cell_type": "code",
      "source": [
        "# Use Softmax function to parameterize the output\n",
        "y_pred = tf.nn.softmax(fc2)\n",
        "y_pred_cls = tf.argmax(y_pred, dimension=1)\n",
        "\n",
        "# Define loss and optimizer\n",
        "cross_entropy = tf.nn.softmax_cross_entropy_with_logits_v2(logits=fc2, labels=y_true)\n",
        "cost = tf.reduce_mean(cross_entropy)\n",
        "\n",
        "optimizer = tf.train.GradientDescentOptimizer(learning_rate=0.01).minimize(cost)\n",
        "\n",
        "# Evaluate model\n",
        "correct_prediction = tf.equal(y_pred_cls, y_true_cls)\n",
        "accuracy = tf.reduce_mean(tf.cast(correct_prediction, tf.float32))"
      ],
      "execution_count": 0,
      "outputs": []
    },
    {
      "metadata": {
        "id": "oTdlu2Xgcic3",
        "colab_type": "text"
      },
      "cell_type": "markdown",
      "source": [
        "### Set the n(epochs) and batch size"
      ]
    },
    {
      "metadata": {
        "id": "j9PFCUDecic6",
        "colab_type": "code",
        "colab": {}
      },
      "cell_type": "code",
      "source": [
        "num_epochs = 10\n",
        "batch_size = 64\n",
        "\n",
        "train_l = []\n",
        "valid_l = []\n",
        "epoch_n = []"
      ],
      "execution_count": 0,
      "outputs": []
    },
    {
      "metadata": {
        "id": "4EfHuViacic9",
        "colab_type": "text"
      },
      "cell_type": "markdown",
      "source": [
        "### TensorFlow Session - Start training for the specified n(epochs)\n",
        "\n",
        "\n"
      ]
    },
    {
      "metadata": {
        "id": "iOv86c6ecic9",
        "colab_type": "code",
        "outputId": "61bd572d-f5d5-4ae1-b9cb-59d8481519aa",
        "colab": {
          "base_uri": "https://localhost:8080/",
          "height": 1717
        }
      },
      "cell_type": "code",
      "source": [
        "with tf.Session() as sess:\n",
        "   \n",
        "    sess.run(tf.global_variables_initializer())\n",
        "    \n",
        "    for epoch in range(num_epochs):\n",
        "        \n",
        "        train_accuracy = 0\n",
        "        train_loss     = 0\n",
        "        \n",
        "        for batch in range(0, int(len(data.train.labels)/batch_size)):\n",
        "            \n",
        "            # Take a batch of images and labels\n",
        "            x_batch, y_true_batch = data.train.next_batch(batch_size)\n",
        "            feed_dict_train = {x: x_batch, y_true: y_true_batch}\n",
        "            \n",
        "            # Run optimizer on each batch\n",
        "            sess.run(optimizer, feed_dict=feed_dict_train)\n",
        "            \n",
        "            # Accuracy and loss Calculation per batch\n",
        "            train_accuracy += sess.run(accuracy, feed_dict=feed_dict_train)\n",
        "            train_loss     += sess.run(cost, feed_dict=feed_dict_train) \n",
        "          \n",
        "        train_accuracy /= int(len(data.train.labels)/batch_size)\n",
        "        train_loss /= int(len(data.train.labels)/batch_size)\n",
        "        \n",
        "        # Validating the model on validation set\n",
        "        vali_accuracy = sess.run(accuracy, feed_dict={x:data.validation.images, y_true:data.validation.labels})\n",
        "        vali_loss = sess.run(cost, feed_dict={x:data.validation.images, y_true:data.validation.labels})\n",
        "        \n",
        "        print(\"\\n Epoch :\"+str(epoch+1))\n",
        "        \n",
        "        #To get Accuracy metrics\n",
        "        \n",
        "        print(\"\\t Accuracy:\")\n",
        "        print(\"\\t-------\")\n",
        "        print (\"\\t Train Accuracy     :\\t{}\".format(train_accuracy))\n",
        "        print (\"\\t Validation Accuracy:\\t{}\".format(vali_accuracy))\n",
        "        \n",
        "       \n",
        "        #To get Loss metrics\n",
        "        print(\"\\t Loss:\")\n",
        "        print(\"\\t-------\")\n",
        "        print (\"\\t Train Loss     :\\t{}\".format(train_loss))\n",
        "        print (\"\\t Validation Loss:\\t{}\".format(vali_loss))\n",
        "        \n",
        "        train_l.append(float(train_loss))\n",
        "        valid_l.append(float(vali_loss))\n",
        "        epoch_n.append(int(epoch+1))\n",
        "            \n",
        "        "
      ],
      "execution_count": 40,
      "outputs": [
        {
          "output_type": "stream",
          "text": [
            "\n",
            " Epoch :1\n",
            "\t Accuracy:\n",
            "\t-------\n",
            "\t Train Accuracy     :\t0.7096733119906868\n",
            "\t Validation Accuracy:\t0.9327999949455261\n",
            "\t Loss:\n",
            "\t-------\n",
            "\t Train Loss     :\t1.0015138843648648\n",
            "\t Validation Loss:\t0.23668882250785828\n",
            "\n",
            " Epoch :2\n",
            "\t Accuracy:\n",
            "\t-------\n",
            "\t Train Accuracy     :\t0.9686408614668219\n",
            "\t Validation Accuracy:\t0.9602000117301941\n",
            "\t Loss:\n",
            "\t-------\n",
            "\t Train Loss     :\t0.12086557651998972\n",
            "\t Validation Loss:\t0.134439617395401\n",
            "\n",
            " Epoch :3\n",
            "\t Accuracy:\n",
            "\t-------\n",
            "\t Train Accuracy     :\t0.9831926658905704\n",
            "\t Validation Accuracy:\t0.968999981880188\n",
            "\t Loss:\n",
            "\t-------\n",
            "\t Train Loss     :\t0.07185332517858434\n",
            "\t Validation Loss:\t0.1084081307053566\n",
            "\n",
            " Epoch :4\n",
            "\t Accuracy:\n",
            "\t-------\n",
            "\t Train Accuracy     :\t0.988831490104773\n",
            "\t Validation Accuracy:\t0.9789999723434448\n",
            "\t Loss:\n",
            "\t-------\n",
            "\t Train Loss     :\t0.05141319007893571\n",
            "\t Validation Loss:\t0.07671984285116196\n",
            "\n",
            " Epoch :5\n",
            "\t Accuracy:\n",
            "\t-------\n",
            "\t Train Accuracy     :\t0.9919783178114087\n",
            "\t Validation Accuracy:\t0.9796000123023987\n",
            "\t Loss:\n",
            "\t-------\n",
            "\t Train Loss     :\t0.04100081393694694\n",
            "\t Validation Loss:\t0.06781114637851715\n",
            "\n",
            " Epoch :6\n",
            "\t Accuracy:\n",
            "\t-------\n",
            "\t Train Accuracy     :\t0.9939246216530849\n",
            "\t Validation Accuracy:\t0.9807999730110168\n",
            "\t Loss:\n",
            "\t-------\n",
            "\t Train Loss     :\t0.032878950876275966\n",
            "\t Validation Loss:\t0.062067944556474686\n",
            "\n",
            " Epoch :7\n",
            "\t Accuracy:\n",
            "\t-------\n",
            "\t Train Accuracy     :\t0.9949796274738067\n",
            "\t Validation Accuracy:\t0.9819999933242798\n",
            "\t Loss:\n",
            "\t-------\n",
            "\t Train Loss     :\t0.027628646074437532\n",
            "\t Validation Loss:\t0.06372062116861343\n",
            "\n",
            " Epoch :8\n",
            "\t Accuracy:\n",
            "\t-------\n",
            "\t Train Accuracy     :\t0.9960710128055879\n",
            "\t Validation Accuracy:\t0.9842000007629395\n",
            "\t Loss:\n",
            "\t-------\n",
            "\t Train Loss     :\t0.023346535379432435\n",
            "\t Validation Loss:\t0.05356413498520851\n",
            "\n",
            " Epoch :9\n",
            "\t Accuracy:\n",
            "\t-------\n",
            "\t Train Accuracy     :\t0.9968167927823051\n",
            "\t Validation Accuracy:\t0.9865999817848206\n",
            "\t Loss:\n",
            "\t-------\n",
            "\t Train Loss     :\t0.02044791042586795\n",
            "\t Validation Loss:\t0.05067954584956169\n",
            "\n",
            " Epoch :10\n",
            "\t Accuracy:\n",
            "\t-------\n",
            "\t Train Accuracy     :\t0.9974352444703143\n",
            "\t Validation Accuracy:\t0.984000027179718\n",
            "\t Loss:\n",
            "\t-------\n",
            "\t Train Loss     :\t0.017831615774867336\n",
            "\t Validation Loss:\t0.05870438739657402\n"
          ],
          "name": "stdout"
        }
      ]
    },
    {
      "metadata": {
        "id": "wVslceHPK5NY",
        "colab_type": "text"
      },
      "cell_type": "markdown",
      "source": [
        "### Plot train and validation error per epoch"
      ]
    },
    {
      "metadata": {
        "id": "yRd9MK564a1R",
        "colab_type": "code",
        "outputId": "e1f6bfbb-50b2-49b5-9002-2d4ce8892281",
        "colab": {
          "base_uri": "https://localhost:8080/",
          "height": 294
        }
      },
      "cell_type": "code",
      "source": [
        "#Plot the train and valid error at end of each epoch\n",
        "\n",
        "p1=plt.plot(epoch_n, train_l, label=\"trainloss\", color='green', marker='o', linestyle='dashed',linewidth=2, markersize=4)\n",
        "p2=plt.plot(epoch_n, valid_l, label=\"valloss\", color='red', marker='o', linestyle='dashed',linewidth=2, markersize=4)\n",
        "plt.xlabel('Epoch_Number')\n",
        "plt.ylabel('Error')\n",
        "plt.title('TrainError VS ValidError')\n",
        "plt.legend((p1[0], p2[0]), ('Train_Error', 'Validation_Error'))\n",
        "#plt.savefig('TrainerrorVSValerror.png', bbox_inches='tight')\n",
        "plt.show() \n"
      ],
      "execution_count": 41,
      "outputs": [
        {
          "output_type": "display_data",
          "data": {
            "image/png": "[encoded data removed]",
            "text/plain": [
              "<Figure size 432x288 with 1 Axes>"
            ]
          },
          "metadata": {
            "tags": []
          }
        }
      ]
    }
  ]
}