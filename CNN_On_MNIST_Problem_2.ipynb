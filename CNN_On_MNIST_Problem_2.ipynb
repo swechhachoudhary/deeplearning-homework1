{
  "nbformat": 4,
  "nbformat_minor": 0,
  "metadata": {
    "colab": {
      "name": "CNN_On_MNIST_Problem-2.ipynb",
      "version": "0.3.2",
      "provenance": []
    },
    "kernelspec": {
      "name": "python3",
      "display_name": "Python 3"
    },
    "accelerator": "GPU"
  },
  "cells": [
    {
      "metadata": {
        "id": "UcuFB-vccia7",
        "colab_type": "text"
      },
      "cell_type": "markdown",
      "source": [
        "<center><h1> Problem2 - CNN on MNIST </h1><center>"
      ]
    },
    {
      "metadata": {
        "id": "92S9U4rUcibA",
        "colab_type": "text"
      },
      "cell_type": "markdown",
      "source": [
        "### Import the required packages"
      ]
    },
    {
      "metadata": {
        "id": "cjTyS3ZdcibD",
        "colab_type": "code",
        "colab": {
          "base_uri": "https://localhost:8080/",
          "height": 34
        },
        "outputId": "aa7604bb-3665-44ec-f1a7-5154c8bede2c"
      },
      "cell_type": "code",
      "source": [
        "import tensorflow as tf\n",
        "\n",
        "#To check if tensorflow can access the gpu\n",
        "device_name = tf.test.gpu_device_name()\n",
        "if device_name != '/device:GPU:0':\n",
        "  raise SystemError('GPU device not found')\n",
        "print('Found GPU at: {}'.format(device_name))\n",
        "\n",
        "import numpy as np\n",
        "import matplotlib.pyplot as plt\n",
        "%matplotlib inline\n",
        "import time"
      ],
      "execution_count": 1,
      "outputs": [
        {
          "output_type": "stream",
          "text": [
            "Found GPU at: /device:GPU:0\n"
          ],
          "name": "stdout"
        }
      ]
    },
    {
      "metadata": {
        "id": "sq8yfD0ZcibP",
        "colab_type": "text"
      },
      "cell_type": "markdown",
      "source": [
        "### Load MNIST Data"
      ]
    },
    {
      "metadata": {
        "id": "TS2uoh5NcibS",
        "colab_type": "code",
        "colab": {
          "base_uri": "https://localhost:8080/",
          "height": 85
        },
        "outputId": "c329a5e8-5400-4527-f71b-a0c49f5aa559"
      },
      "cell_type": "code",
      "source": [
        "from tensorflow.examples.tutorials.mnist import input_data\n",
        "data = input_data.read_data_sets('data/MNIST/', one_hot=True)"
      ],
      "execution_count": 29,
      "outputs": [
        {
          "output_type": "stream",
          "text": [
            "Extracting data/MNIST/train-images-idx3-ubyte.gz\n",
            "Extracting data/MNIST/train-labels-idx1-ubyte.gz\n",
            "Extracting data/MNIST/t10k-images-idx3-ubyte.gz\n",
            "Extracting data/MNIST/t10k-labels-idx1-ubyte.gz\n"
          ],
          "name": "stdout"
        }
      ]
    },
    {
      "metadata": {
        "id": "YzsiaaAEtguy",
        "colab_type": "text"
      },
      "cell_type": "markdown",
      "source": [
        "### Check the train-valid-test data size"
      ]
    },
    {
      "metadata": {
        "id": "ReDb5xi5cibd",
        "colab_type": "code",
        "colab": {
          "base_uri": "https://localhost:8080/",
          "height": 68
        },
        "outputId": "4c605220-d1ec-4a18-b7e9-ac16989df2a3"
      },
      "cell_type": "code",
      "source": [
        "print(\"Train-set:\\t\\t{}\".format(len(data.train.labels)))\n",
        "print(\"Test-set:\\t\\t{}\".format(len(data.test.labels)))\n",
        "print(\"Validation-set:\\t\\t{}\".format(len(data.validation.labels)))"
      ],
      "execution_count": 3,
      "outputs": [
        {
          "output_type": "stream",
          "text": [
            "Train-set:\t\t55000\n",
            "Test-set:\t\t10000\n",
            "Validation-set:\t\t5000\n"
          ],
          "name": "stdout"
        }
      ]
    },
    {
      "metadata": {
        "collapsed": true,
        "id": "jIGNR3UIcibt",
        "colab_type": "text"
      },
      "cell_type": "markdown",
      "source": [
        "### Initalization of the placeholder variables"
      ]
    },
    {
      "metadata": {
        "id": "js9CeQAWcibw",
        "colab_type": "code",
        "colab": {
          "base_uri": "https://localhost:8080/",
          "height": 88
        },
        "outputId": "cc2376c5-3e34-4f8d-b2da-f32b23b534ba"
      },
      "cell_type": "code",
      "source": [
        "x = tf.placeholder(tf.float32, shape=[None, 28*28], name='X')\n",
        "x_image = tf.reshape(x, [-1, 28, 28, 1])\n",
        "\n",
        "y_true = tf.placeholder(tf.float32, shape=[None, 10], name='y_true')\n",
        "y_true_cls = tf.argmax(y_true, dimension=1)"
      ],
      "execution_count": 4,
      "outputs": [
        {
          "output_type": "stream",
          "text": [
            "WARNING:tensorflow:From <ipython-input-4-cc3006e79a1a>:7: calling argmax (from tensorflow.python.ops.math_ops) with dimension is deprecated and will be removed in a future version.\n",
            "Instructions for updating:\n",
            "Use the `axis` argument instead\n"
          ],
          "name": "stdout"
        }
      ]
    },
    {
      "metadata": {
        "id": "wxYaKUeqcib2",
        "colab_type": "text"
      },
      "cell_type": "markdown",
      "source": [
        "### Functions to create basic CNN layers"
      ]
    },
    {
      "metadata": {
        "id": "cDqWcULhcib5",
        "colab_type": "code",
        "colab": {}
      },
      "cell_type": "code",
      "source": [
        "#Create convolution layer\n",
        "def conv_layer(input, num_input_channels, filter_size, num_filters, name):\n",
        "    \n",
        "    with tf.variable_scope(name) as scope:\n",
        "        \n",
        "        #Filter-shape\n",
        "        shape = [filter_size, filter_size, num_input_channels, num_filters]\n",
        "\n",
        "        # Weights and Biases\n",
        "        weights = tf.Variable(tf.truncated_normal(shape, stddev=0.02))\n",
        "        #weights = tf.Variable(tf.constant(0, shape))\n",
        "        biases = tf.Variable(tf.constant(0.05, shape=[num_filters]))\n",
        "        \n",
        "        layer = tf.nn.conv2d(input=input, filter=weights, strides=[1, 1, 1, 1], padding='SAME')\n",
        "        layer += biases\n",
        "        \n",
        "        return layer, weights\n",
        "\n",
        "#Create pool layer      \n",
        "def pool_layer(input, name):\n",
        "    \n",
        "    with tf.variable_scope(name) as scope:\n",
        "        layer = tf.nn.max_pool(value=input, ksize=[1, 2, 2, 1], strides=[1, 2, 2, 1], padding='SAME')\n",
        "        \n",
        "        return layer\n",
        "      \n",
        "#Create ReLU Activation Layer\n",
        "def relu_layer(input, name):\n",
        "    \n",
        "    with tf.variable_scope(name) as scope:\n",
        "        layer = tf.nn.relu(input)\n",
        "     \n",
        "        return layer\n",
        "\n",
        "#Create Fully Connected Layer\n",
        "def fc_layer(input, num_inputs, num_outputs, name):\n",
        "    \n",
        "    with tf.variable_scope(name) as scope:\n",
        "\n",
        "        weights = tf.Variable(tf.truncated_normal([num_inputs, num_outputs], stddev=0.02))\n",
        "        biases = tf.Variable(tf.constant(0.02, shape=[num_outputs]))\n",
        "        \n",
        "        layer = tf.matmul(input, weights) + biases\n",
        "        \n",
        "        return layer"
      ],
      "execution_count": 0,
      "outputs": []
    },
    {
      "metadata": {
        "id": "73foXeg8cicY",
        "colab_type": "text"
      },
      "cell_type": "markdown",
      "source": [
        "###  Convolutional Neural Network - Architecture for Classification"
      ]
    },
    {
      "metadata": {
        "id": "M41kHmSvcicZ",
        "colab_type": "code",
        "colab": {}
      },
      "cell_type": "code",
      "source": [
        "# Convolution 1\n",
        "conv1, weights_conv1 = conv_layer(input=x_image, num_input_channels=1, filter_size=7, num_filters=8, name =\"conv1\")\n",
        "pool1 = pool_layer(conv1, name=\"pool1\")\n",
        "relu1 = relu_layer(pool1, name=\"relu1\")\n",
        "\n",
        "# Convolution 2\n",
        "conv2, weights_conv2 = conv_layer(input=relu1, num_input_channels=8, filter_size=7, num_filters=16, name= \"conv2\")\n",
        "pool2 = pool_layer(conv2, name=\"pool2\")\n",
        "relu2 = relu_layer(pool2, name=\"relu2\")\n",
        "\n",
        "# Flatten Layer\n",
        "num_features = relu2.get_shape()[1:4].num_elements()\n",
        "flat = tf.reshape(relu2, [-1, num_features])\n",
        "\n",
        "# Fully-Connected Layer 1\n",
        "fc1 = fc_layer(flat, num_inputs=num_features, num_outputs=128, name=\"fc1\")\n",
        "relu3 = relu_layer(fc1, name=\"relu3\")\n",
        "\n",
        "# Fully-Connected Layer 2\n",
        "fc2 = fc_layer(input=relu3, num_inputs=128, num_outputs=10, name=\"fc2\")"
      ],
      "execution_count": 0,
      "outputs": []
    },
    {
      "metadata": {
        "id": "XGTKiU6d7UZq",
        "colab_type": "text"
      },
      "cell_type": "markdown",
      "source": [
        "### Output Parameterization - Softmax Function"
      ]
    },
    {
      "metadata": {
        "id": "yrtzLu0fcicc",
        "colab_type": "code",
        "colab": {}
      },
      "cell_type": "code",
      "source": [
        "# Use Softmax function to parameterize the output\n",
        "with tf.variable_scope(\"Softmax\"):\n",
        "    y_pred = tf.nn.softmax(fc2)\n",
        "    y_pred_cls = tf.argmax(y_pred, dimension=1)"
      ],
      "execution_count": 0,
      "outputs": []
    },
    {
      "metadata": {
        "id": "ue-qYirmcicg",
        "colab_type": "text"
      },
      "cell_type": "markdown",
      "source": [
        "### Loss Calculation - Cross Entropy Function"
      ]
    },
    {
      "metadata": {
        "id": "KrP0UFdHcicg",
        "colab_type": "code",
        "colab": {
          "base_uri": "https://localhost:8080/",
          "height": 173
        },
        "outputId": "2bbb386d-feb5-4b79-bf47-7d7fc7a8e972"
      },
      "cell_type": "code",
      "source": [
        "# Use Cross entropy function to calculate loss\n",
        "with tf.name_scope(\"cross_ent\"):\n",
        "    cross_entropy = tf.nn.softmax_cross_entropy_with_logits(logits=fc2, labels=y_true)\n",
        "    cost = tf.reduce_mean(cross_entropy)"
      ],
      "execution_count": 11,
      "outputs": [
        {
          "output_type": "stream",
          "text": [
            "WARNING:tensorflow:From <ipython-input-11-cb0b5162bb09>:2: softmax_cross_entropy_with_logits (from tensorflow.python.ops.nn_ops) is deprecated and will be removed in a future version.\n",
            "Instructions for updating:\n",
            "\n",
            "Future major versions of TensorFlow will allow gradients to flow\n",
            "into the labels input on backprop by default.\n",
            "\n",
            "See `tf.nn.softmax_cross_entropy_with_logits_v2`.\n",
            "\n"
          ],
          "name": "stdout"
        }
      ]
    },
    {
      "metadata": {
        "id": "5t00S9e2cick",
        "colab_type": "text"
      },
      "cell_type": "markdown",
      "source": [
        "### Optimization with Stochastic Gradient Descent Optimizer"
      ]
    },
    {
      "metadata": {
        "id": "QxmVF9-wcick",
        "colab_type": "code",
        "colab": {}
      },
      "cell_type": "code",
      "source": [
        "# Use SGD Optimizer\n",
        "with tf.name_scope(\"optimizer\"):\n",
        "    optimizer = tf.train.GradientDescentOptimizer(learning_rate=1e-4).minimize(cost)"
      ],
      "execution_count": 0,
      "outputs": []
    },
    {
      "metadata": {
        "id": "jmR9qAZ3cico",
        "colab_type": "text"
      },
      "cell_type": "markdown",
      "source": [
        "### Accuracy Calculation"
      ]
    },
    {
      "metadata": {
        "id": "PJj9rq5icicr",
        "colab_type": "code",
        "colab": {}
      },
      "cell_type": "code",
      "source": [
        "# Accuracy\n",
        "with tf.name_scope(\"accuracy\"):\n",
        "    correct_prediction = tf.equal(y_pred_cls, y_true_cls)\n",
        "    accuracy = tf.reduce_mean(tf.cast(correct_prediction, tf.float32))"
      ],
      "execution_count": 0,
      "outputs": []
    },
    {
      "metadata": {
        "id": "9kcIpXRNanAa",
        "colab_type": "text"
      },
      "cell_type": "markdown",
      "source": [
        "### Addition of result metrics to summary"
      ]
    },
    {
      "metadata": {
        "id": "07orzITocicx",
        "colab_type": "code",
        "colab": {}
      },
      "cell_type": "code",
      "source": [
        "# Initialize the FileWriter\n",
        "writer = tf.summary.FileWriter(\"Training_FileWriter/\")\n",
        "writer1 = tf.summary.FileWriter(\"Validation_FileWriter/\")\n",
        "\n",
        "# Add the loss and accuracy to summary\n",
        "tf.summary.scalar('loss', cost)\n",
        "tf.summary.scalar('accuracy', accuracy)\n",
        "merged_summary = tf.summary.merge_all()"
      ],
      "execution_count": 0,
      "outputs": []
    },
    {
      "metadata": {
        "id": "oTdlu2Xgcic3",
        "colab_type": "text"
      },
      "cell_type": "markdown",
      "source": [
        "### Set the n(epochs) and batch size"
      ]
    },
    {
      "metadata": {
        "id": "j9PFCUDecic6",
        "colab_type": "code",
        "colab": {}
      },
      "cell_type": "code",
      "source": [
        "num_epochs = 10\n",
        "batch_size = 64"
      ],
      "execution_count": 0,
      "outputs": []
    },
    {
      "metadata": {
        "id": "4EfHuViacic9",
        "colab_type": "text"
      },
      "cell_type": "markdown",
      "source": [
        "### TensorFlow Session - Start training for the specified n(epochs)\n",
        "\n",
        "\n"
      ]
    },
    {
      "metadata": {
        "id": "iOv86c6ecic9",
        "colab_type": "code",
        "colab": {
          "base_uri": "https://localhost:8080/",
          "height": 1037
        },
        "outputId": "81b89f5d-35fb-425b-8ae3-51691e2908da"
      },
      "cell_type": "code",
      "source": [
        "train_l = []\n",
        "valid_l = []\n",
        "epoch_n = []\n",
        "\n",
        "with tf.Session() as sess:\n",
        "   \n",
        "    sess.run(tf.global_variables_initializer())\n",
        "    writer.add_graph(sess.graph)\n",
        "    \n",
        "    for epoch in range(num_epochs):\n",
        "        \n",
        "        start_time = time.time()\n",
        "        train_accuracy = 0\n",
        "        train_loss     = 0\n",
        "        \n",
        "        for batch in range(0, int(len(data.train.labels)/batch_size)):\n",
        "            \n",
        "            # \n",
        "            x_batch, y_true_batch = data.train.next_batch(batch_size)\n",
        "            feed_dict_train = {x: x_batch, y_true: y_true_batch}\n",
        "            \n",
        "            # Runnig optimizer on each batch\n",
        "            sess.run(optimizer, feed_dict=feed_dict_train)\n",
        "            \n",
        "            # Accuracy and loss Calculation per batch\n",
        "            train_accuracy += sess.run(accuracy, feed_dict=feed_dict_train)\n",
        "            train_loss     += sess.run(cost, feed_dict=feed_dict_train)\n",
        "            \n",
        "            # Summary generation on current batch\n",
        "            summ = sess.run(merged_summary, feed_dict=feed_dict_train)\n",
        "            writer.add_summary(summ, epoch*int(len(data.train.labels)/batch_size) + batch)\n",
        "        \n",
        "          \n",
        "        train_accuracy /= int(len(data.train.labels)/batch_size)\n",
        "        train_loss /= int(len(data.train.labels)/batch_size)\n",
        "        \n",
        "        # Validating the model on validation set\n",
        "        summ, vali_accuracy = sess.run([merged_summary, accuracy], feed_dict={x:data.validation.images, y_true:data.validation.labels})\n",
        "        summ, vali_loss = sess.run([merged_summary, cost], feed_dict={x:data.validation.images, y_true:data.validation.labels})\n",
        "        writer1.add_summary(summ, epoch)\n",
        "        \n",
        "        end_time = time.time()\n",
        "        \n",
        "        print(\"\\n Epoch \"+str(epoch+1)+\":Time taken \"+str(int(end_time-start_time))+\" seconds\")\n",
        "        \n",
        "        #To get Accuracy metrics\n",
        "        '''\n",
        "        print(\"\\t Accuracy:\")\n",
        "        print(\"\\t-------\")\n",
        "        print (\"\\t Train Accuracy     :\\t{}\".format(train_accuracy))\n",
        "        print (\"\\t Validation Accuracy:\\t{}\".format(vali_accuracy))\n",
        "        \n",
        "        '''\n",
        "        #To get Loss metrics\n",
        "        print(\"\\t Loss:\")\n",
        "        print(\"\\t-------\")\n",
        "        print (\"\\t Train Loss     :\\t{}\".format(train_loss))\n",
        "        print (\"\\t Validation Loss:\\t{}\".format(vali_loss))\n",
        "        \n",
        "        train_l.append(float(train_loss))\n",
        "        valid_l.append(float(vali_loss))\n",
        "        epoch_n.append(int(epoch+1))\n",
        "            \n",
        "        #To plot train and valid error after each epoch\n",
        "        '''\n",
        "        plt.plot(int(epoch+1), round(float(train_loss),5), label=\"trainloss\", color='green', marker='o', linestyle='dashed',linewidth=2, markersize=12)\n",
        "        plt.plot(int(epoch+1), round(float(vali_loss),5), label=\"valloss\", color='red', marker='o', linestyle='dashed',linewidth=2, markersize=12)\n",
        "        plt.xlabel('Epoch_Number')\n",
        "        plt.ylabel('Error')\n",
        "        plt.title('TrainError VS ValidError')\n",
        "        #plt.savefig('TrainerrorVSValerror.png', bbox_inches='tight')\n",
        "        plt.show() \n",
        "        \n",
        "        '''\n",
        "        "
      ],
      "execution_count": 26,
      "outputs": [
        {
          "output_type": "stream",
          "text": [
            "\n",
            " Epoch 1:Time taken 9 seconds\n",
            "\t Loss:\n",
            "\t-------\n",
            "\t Train Loss     :\t2.3024016256521134\n",
            "\t Validation Loss:\t2.302992343902588\n",
            "\n",
            " Epoch 2:Time taken 9 seconds\n",
            "\t Loss:\n",
            "\t-------\n",
            "\t Train Loss     :\t2.3015936830962493\n",
            "\t Validation Loss:\t2.3023083209991455\n",
            "\n",
            " Epoch 3:Time taken 9 seconds\n",
            "\t Loss:\n",
            "\t-------\n",
            "\t Train Loss     :\t2.301015947694967\n",
            "\t Validation Loss:\t2.301619052886963\n",
            "\n",
            " Epoch 4:Time taken 9 seconds\n",
            "\t Loss:\n",
            "\t-------\n",
            "\t Train Loss     :\t2.3002915016014445\n",
            "\t Validation Loss:\t2.30094051361084\n",
            "\n",
            " Epoch 5:Time taken 9 seconds\n",
            "\t Loss:\n",
            "\t-------\n",
            "\t Train Loss     :\t2.299748022703408\n",
            "\t Validation Loss:\t2.3002631664276123\n",
            "\n",
            " Epoch 6:Time taken 8 seconds\n",
            "\t Loss:\n",
            "\t-------\n",
            "\t Train Loss     :\t2.299048087927182\n",
            "\t Validation Loss:\t2.2995951175689697\n",
            "\n",
            " Epoch 7:Time taken 8 seconds\n",
            "\t Loss:\n",
            "\t-------\n",
            "\t Train Loss     :\t2.298403104886465\n",
            "\t Validation Loss:\t2.298941135406494\n",
            "\n",
            " Epoch 8:Time taken 8 seconds\n",
            "\t Loss:\n",
            "\t-------\n",
            "\t Train Loss     :\t2.2978346661444453\n",
            "\t Validation Loss:\t2.2982656955718994\n",
            "\n",
            " Epoch 9:Time taken 8 seconds\n",
            "\t Loss:\n",
            "\t-------\n",
            "\t Train Loss     :\t2.297021688487949\n",
            "\t Validation Loss:\t2.2975921630859375\n",
            "\n",
            " Epoch 10:Time taken 8 seconds\n",
            "\t Loss:\n",
            "\t-------\n",
            "\t Train Loss     :\t2.2964714239584554\n",
            "\t Validation Loss:\t2.2969205379486084\n"
          ],
          "name": "stdout"
        }
      ]
    },
    {
      "metadata": {
        "id": "wVslceHPK5NY",
        "colab_type": "text"
      },
      "cell_type": "markdown",
      "source": [
        "### Plot train and validation error per epoch"
      ]
    },
    {
      "metadata": {
        "id": "yRd9MK564a1R",
        "colab_type": "code",
        "colab": {
          "base_uri": "https://localhost:8080/",
          "height": 294
        },
        "outputId": "a8b644b1-231d-4afc-bf04-122c2b332460"
      },
      "cell_type": "code",
      "source": [
        "#Plot the train and valid error at end of each epoch\n",
        "\n",
        "p1=plt.plot(epoch_n, train_l, label=\"trainloss\", color='green', marker='o', linestyle='dashed',linewidth=2, markersize=12)\n",
        "p2=plt.plot(epoch_n, valid_l, label=\"valloss\", color='red', marker='o', linestyle='dashed',linewidth=2, markersize=12)\n",
        "plt.xlabel('Epoch_Number')\n",
        "plt.ylabel('Error')\n",
        "plt.title('TrainError VS ValidError')\n",
        "plt.legend((p1[0], p2[0]), ('Train_Error', 'Validation_Error'))\n",
        "#plt.savefig('TrainerrorVSValerror.png', bbox_inches='tight')\n",
        "plt.show() \n"
      ],
      "execution_count": 28,
      "outputs": [
        {
          "output_type": "display_data",
          "data": {
            "image/png": "[encoded data removed]",
            "text/plain": [
              "<Figure size 432x288 with 1 Axes>"
            ]
          },
          "metadata": {
            "tags": []
          }
        }
      ]
    }
  ]
}