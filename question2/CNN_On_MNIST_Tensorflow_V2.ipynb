{
  "nbformat": 4,
  "nbformat_minor": 0,
  "metadata": {
    "colab": {
      "name": "CNN_On_MNIST_Tensorflow_V2.ipynb",
      "version": "0.3.2",
      "provenance": []
    },
    "kernelspec": {
      "name": "python3",
      "display_name": "Python 3"
    },
    "accelerator": "GPU"
  },
  "cells": [
    {
      "metadata": {
        "id": "UcuFB-vccia7",
        "colab_type": "text"
      },
      "cell_type": "markdown",
      "source": [
        "<center><h1> Problem2 - CNN on MNIST </h1><center>"
      ]
    },
    {
      "metadata": {
        "id": "92S9U4rUcibA",
        "colab_type": "text"
      },
      "cell_type": "markdown",
      "source": [
        "### Import the required packages"
      ]
    },
    {
      "metadata": {
        "id": "cjTyS3ZdcibD",
        "colab_type": "code",
        "outputId": "adc9d555-d890-4ef8-bb2b-4fbcb065deab",
        "colab": {
          "base_uri": "https://localhost:8080/",
          "height": 34
        }
      },
      "cell_type": "code",
      "source": [
        "import tensorflow as tf\n",
        "\n",
        "#To check if tensorflow can access the gpu\n",
        "device_name = tf.test.gpu_device_name()\n",
        "if device_name != '/device:GPU:0':\n",
        "  raise SystemError('GPU device not found')\n",
        "print('Found GPU at: {}'.format(device_name))\n",
        "\n",
        "import numpy as np\n",
        "import matplotlib.pyplot as plt\n",
        "%matplotlib inline\n",
        "import time\n",
        "\n",
        "from google.colab import files"
      ],
      "execution_count": 1,
      "outputs": [
        {
          "output_type": "stream",
          "text": [
            "Found GPU at: /device:GPU:0\n"
          ],
          "name": "stdout"
        }
      ]
    },
    {
      "metadata": {
        "id": "sq8yfD0ZcibP",
        "colab_type": "text"
      },
      "cell_type": "markdown",
      "source": [
        "### Load MNIST Data"
      ]
    },
    {
      "metadata": {
        "id": "TS2uoh5NcibS",
        "colab_type": "code",
        "outputId": "dfeefb7c-d27d-4240-ed4e-d49545ad03eb",
        "colab": {
          "base_uri": "https://localhost:8080/",
          "height": 411
        }
      },
      "cell_type": "code",
      "source": [
        "from tensorflow.examples.tutorials.mnist import input_data\n",
        "data = input_data.read_data_sets('data/MNIST/', one_hot=True)"
      ],
      "execution_count": 2,
      "outputs": [
        {
          "output_type": "stream",
          "text": [
            "WARNING:tensorflow:From <ipython-input-2-37adf088ce13>:2: read_data_sets (from tensorflow.contrib.learn.python.learn.datasets.mnist) is deprecated and will be removed in a future version.\n",
            "Instructions for updating:\n",
            "Please use alternatives such as official/mnist/dataset.py from tensorflow/models.\n",
            "WARNING:tensorflow:From /usr/local/lib/python3.6/dist-packages/tensorflow/contrib/learn/python/learn/datasets/mnist.py:260: maybe_download (from tensorflow.contrib.learn.python.learn.datasets.base) is deprecated and will be removed in a future version.\n",
            "Instructions for updating:\n",
            "Please write your own downloading logic.\n",
            "WARNING:tensorflow:From /usr/local/lib/python3.6/dist-packages/tensorflow/contrib/learn/python/learn/datasets/mnist.py:262: extract_images (from tensorflow.contrib.learn.python.learn.datasets.mnist) is deprecated and will be removed in a future version.\n",
            "Instructions for updating:\n",
            "Please use tf.data to implement this functionality.\n",
            "Extracting data/MNIST/train-images-idx3-ubyte.gz\n",
            "WARNING:tensorflow:From /usr/local/lib/python3.6/dist-packages/tensorflow/contrib/learn/python/learn/datasets/mnist.py:267: extract_labels (from tensorflow.contrib.learn.python.learn.datasets.mnist) is deprecated and will be removed in a future version.\n",
            "Instructions for updating:\n",
            "Please use tf.data to implement this functionality.\n",
            "Extracting data/MNIST/train-labels-idx1-ubyte.gz\n",
            "WARNING:tensorflow:From /usr/local/lib/python3.6/dist-packages/tensorflow/contrib/learn/python/learn/datasets/mnist.py:110: dense_to_one_hot (from tensorflow.contrib.learn.python.learn.datasets.mnist) is deprecated and will be removed in a future version.\n",
            "Instructions for updating:\n",
            "Please use tf.one_hot on tensors.\n",
            "Extracting data/MNIST/t10k-images-idx3-ubyte.gz\n",
            "Extracting data/MNIST/t10k-labels-idx1-ubyte.gz\n",
            "WARNING:tensorflow:From /usr/local/lib/python3.6/dist-packages/tensorflow/contrib/learn/python/learn/datasets/mnist.py:290: DataSet.__init__ (from tensorflow.contrib.learn.python.learn.datasets.mnist) is deprecated and will be removed in a future version.\n",
            "Instructions for updating:\n",
            "Please use alternatives such as official/mnist/dataset.py from tensorflow/models.\n"
          ],
          "name": "stdout"
        }
      ]
    },
    {
      "metadata": {
        "id": "YzsiaaAEtguy",
        "colab_type": "text"
      },
      "cell_type": "markdown",
      "source": [
        "### Check the train-valid-test data size"
      ]
    },
    {
      "metadata": {
        "id": "ReDb5xi5cibd",
        "colab_type": "code",
        "outputId": "b255b8c0-5ed7-4aaf-8942-178b5896a456",
        "colab": {
          "base_uri": "https://localhost:8080/",
          "height": 68
        }
      },
      "cell_type": "code",
      "source": [
        "print(\"Num of samples-Train: {}\".format(len(data.train.labels)))\n",
        "print(\"Num of samples-Test: {}\".format(len(data.test.labels)))\n",
        "print(\"Num of samples-Valid: {}\".format(len(data.validation.labels)))"
      ],
      "execution_count": 3,
      "outputs": [
        {
          "output_type": "stream",
          "text": [
            "Num of samples-Train: 55000\n",
            "Num of samples-Test: 10000\n",
            "Num of samples-Valid: 5000\n"
          ],
          "name": "stdout"
        }
      ]
    },
    {
      "metadata": {
        "collapsed": true,
        "id": "jIGNR3UIcibt",
        "colab_type": "text"
      },
      "cell_type": "markdown",
      "source": [
        "### Initalization of the placeholder variables"
      ]
    },
    {
      "metadata": {
        "id": "js9CeQAWcibw",
        "colab_type": "code",
        "outputId": "8edc0254-f46e-4ea9-e445-66f37614c387",
        "colab": {
          "base_uri": "https://localhost:8080/",
          "height": 88
        }
      },
      "cell_type": "code",
      "source": [
        "x = tf.placeholder(tf.float32, shape=[None, 28*28], name='X')\n",
        "x_image = tf.reshape(x, [-1, 28, 28, 1])\n",
        "\n",
        "y_true = tf.placeholder(tf.float32, shape=[None, 10], name='y_true')\n",
        "y_true_cls = tf.argmax(y_true, dimension=1)"
      ],
      "execution_count": 4,
      "outputs": [
        {
          "output_type": "stream",
          "text": [
            "WARNING:tensorflow:From <ipython-input-4-d592af0f7244>:5: calling argmax (from tensorflow.python.ops.math_ops) with dimension is deprecated and will be removed in a future version.\n",
            "Instructions for updating:\n",
            "Use the `axis` argument instead\n"
          ],
          "name": "stdout"
        }
      ]
    },
    {
      "metadata": {
        "id": "wxYaKUeqcib2",
        "colab_type": "text"
      },
      "cell_type": "markdown",
      "source": [
        "### Functions to create basic CNN layers"
      ]
    },
    {
      "metadata": {
        "id": "cDqWcULhcib5",
        "colab_type": "code",
        "colab": {}
      },
      "cell_type": "code",
      "source": [
        "#Create convolution layer\n",
        "def conv_layer(input, num_input_channels, filter_size, num_filters, name):\n",
        "    \n",
        "    #Filter-shape\n",
        "    shape = [filter_size, filter_size, num_input_channels, num_filters]\n",
        "\n",
        "    # Weights and Biases\n",
        "    weights = tf.Variable(tf.truncated_normal(shape, stddev=0.05))\n",
        "    #weights = tf.Variable(tf.constant(0, shape))\n",
        "    biases = tf.Variable(tf.constant(0.01, shape=[num_filters]))\n",
        "\n",
        "    layer = tf.nn.conv2d(input=input, filter=weights, strides=[1, 1, 1, 1], padding='SAME')\n",
        "    layer += biases\n",
        "\n",
        "    return layer, weights\n",
        "\n",
        "#Create pool layer      \n",
        "def pool_layer(input, name):\n",
        "    \n",
        "    layer = tf.nn.max_pool(value=input, ksize=[1, 2, 2, 1], strides=[1, 2, 2, 1], padding='SAME')\n",
        "\n",
        "    return layer\n",
        "\n",
        "#Create ReLU Activation Layer\n",
        "def relu_layer(input, name):\n",
        "\n",
        "    layer = tf.nn.relu(input)\n",
        "\n",
        "    return layer\n",
        "\n",
        "#Create Fully Connected Layer\n",
        "def fc_layer(input, num_inputs, num_outputs, name):\n",
        "    \n",
        "    weights = tf.Variable(tf.truncated_normal([num_inputs, num_outputs], stddev=0.05))\n",
        "    biases = tf.Variable(tf.constant(0.01, shape=[num_outputs]))\n",
        "\n",
        "    layer = tf.matmul(input, weights) + biases\n",
        "\n",
        "    return layer"
      ],
      "execution_count": 0,
      "outputs": []
    },
    {
      "metadata": {
        "id": "r345xE5Fa2cR",
        "colab_type": "text"
      },
      "cell_type": "markdown",
      "source": [
        "###Convolutional Neural Network - Architecture for Classification - 6 Conv layers\n",
        "\n",
        "Referred architecture : https://github.com/MaximumEntropy/welcome_tutorials/tree/pytorch/pytorch\n",
        "\n",
        "Made changes in architecture and the trainable parameters to make the parameter count more or less similar to the MLP used in the previous question.\n",
        "\n",
        "|MLP parameter count|CNN parameter count|\n",
        "|:-----------------------------------:|:-----------------------------------:|\n",
        "|937482|937972|\n",
        "\n",
        "\n"
      ]
    },
    {
      "metadata": {
        "id": "7lTqsTLbj9Z2",
        "colab_type": "code",
        "colab": {
          "base_uri": "https://localhost:8080/",
          "height": 88
        },
        "outputId": "8e6837f3-671e-4b85-a4ba-340963a9bf0f"
      },
      "cell_type": "code",
      "source": [
        "# Convolution 1\n",
        "conv1, weights_conv1 = conv_layer(input=x_image, num_input_channels=1, filter_size=9, num_filters=16, name =\"conv1\")\n",
        "pool1 = pool_layer(conv1, name=\"pool1\")\n",
        "relu1 = relu_layer(pool1, name=\"relu1\")\n",
        "\n",
        "# Convolution 2\n",
        "conv2, weights_conv2 = conv_layer(input=relu1, num_input_channels=16, filter_size=9, num_filters=32, name= \"conv2\")\n",
        "pool2 = pool_layer(conv2, name=\"pool2\")\n",
        "relu2 = relu_layer(pool2, name=\"relu2\")\n",
        "\n",
        "# Convolution 3\n",
        "conv3, weights_conv3 = conv_layer(input=relu2, num_input_channels=32, filter_size=9, num_filters=42, name= \"conv3\")\n",
        "pool3 = pool_layer(conv3, name=\"pool3\")\n",
        "relu3 = relu_layer(pool3, name=\"relu3\")\n",
        "\n",
        "# Convolution 4\n",
        "conv4, weights_conv4 = conv_layer(input=relu3, num_input_channels=42, filter_size=9, num_filters=64, name= \"conv3\")\n",
        "pool4 = pool_layer(conv4, name=\"pool4\")\n",
        "relu4 = relu_layer(pool4, name=\"relu4\")\n",
        "\n",
        "# Convolution 5\n",
        "conv5, weights_conv5 = conv_layer(input=relu4, num_input_channels=64, filter_size=5, num_filters=128, name= \"conv4\")\n",
        "pool5 = pool_layer(conv5, name=\"pool5\")\n",
        "relu5 = relu_layer(pool5, name=\"relu5\")\n",
        "\n",
        "# Convolution 6\n",
        "conv6, weights_conv6 = conv_layer(input=relu5, num_input_channels=128, filter_size=3, num_filters=256, name= \"conv5\")\n",
        "pool6 = pool_layer(conv6, name=\"pool6\")\n",
        "relu6 = relu_layer(pool6, name=\"relu6\")\n",
        "\n",
        "# Flatten Layer\n",
        "num_features = relu6.get_shape()[1:4].num_elements()\n",
        "flat = tf.reshape(relu6, [-1, num_features])\n",
        "\n",
        "# Fully-Connected Layer 1\n",
        "fc1 = fc_layer(flat, num_inputs=num_features, num_outputs= 256 , name=\"fc1\")\n",
        "relu7 = relu_layer(fc1, name=\"relu7\")\n",
        "\n",
        "# Fully-Connected Layer 2\n",
        "fc2 = fc_layer(input=relu7, num_inputs = 256 , num_outputs=10, name=\"fc2\")"
      ],
      "execution_count": 7,
      "outputs": [
        {
          "output_type": "stream",
          "text": [
            "WARNING:tensorflow:From /usr/local/lib/python3.6/dist-packages/tensorflow/python/framework/op_def_library.py:263: colocate_with (from tensorflow.python.framework.ops) is deprecated and will be removed in a future version.\n",
            "Instructions for updating:\n",
            "Colocations handled automatically by placer.\n"
          ],
          "name": "stdout"
        }
      ]
    },
    {
      "metadata": {
        "id": "XGTKiU6d7UZq",
        "colab_type": "text"
      },
      "cell_type": "markdown",
      "source": [
        "### Output Parameterization, Loss Calculation, Optimization ,Evaluation"
      ]
    },
    {
      "metadata": {
        "id": "9mCfLrD9iR7u",
        "colab_type": "code",
        "colab": {}
      },
      "cell_type": "code",
      "source": [
        "# Use Softmax function to parameterize the output\n",
        "y_pred = tf.nn.softmax(fc2)\n",
        "y_pred_cls = tf.argmax(y_pred, dimension=1)\n",
        "\n",
        "# Define loss and optimizer\n",
        "cross_entropy = tf.nn.softmax_cross_entropy_with_logits_v2(logits=fc2, labels=y_true)\n",
        "cost = tf.reduce_mean(cross_entropy)\n",
        "\n",
        "optimizer = tf.train.GradientDescentOptimizer(learning_rate=0.01).minimize(cost)\n",
        "\n",
        "# Evaluate model\n",
        "correct_prediction = tf.equal(y_pred_cls, y_true_cls)\n",
        "accuracy = tf.reduce_mean(tf.cast(correct_prediction, tf.float32))"
      ],
      "execution_count": 0,
      "outputs": []
    },
    {
      "metadata": {
        "id": "oTdlu2Xgcic3",
        "colab_type": "text"
      },
      "cell_type": "markdown",
      "source": [
        "### Set the n(epochs) and batch size"
      ]
    },
    {
      "metadata": {
        "id": "j9PFCUDecic6",
        "colab_type": "code",
        "colab": {}
      },
      "cell_type": "code",
      "source": [
        "num_epochs = 10\n",
        "batch_size = 64\n",
        "\n",
        "trainloss, trainerror, validloss, validerror, epoch_n = ([] for i in range(5))"
      ],
      "execution_count": 0,
      "outputs": []
    },
    {
      "metadata": {
        "id": "4EfHuViacic9",
        "colab_type": "text"
      },
      "cell_type": "markdown",
      "source": [
        "### TensorFlow Session - Start training for the specified n(epochs)\n",
        "\n",
        "\n"
      ]
    },
    {
      "metadata": {
        "id": "iOv86c6ecic9",
        "colab_type": "code",
        "outputId": "47f3758c-16d8-4704-ff45-635798ba22e4",
        "colab": {
          "base_uri": "https://localhost:8080/",
          "height": 2397
        }
      },
      "cell_type": "code",
      "source": [
        "with tf.Session() as sess:\n",
        "   \n",
        "    sess.run(tf.global_variables_initializer())\n",
        "    \n",
        "    for epoch in range(num_epochs):\n",
        "        \n",
        "        train_accuracy = 0\n",
        "        train_loss     = 0\n",
        "        \n",
        "        for batch in range(0, int(len(data.train.labels)/batch_size)):\n",
        "            \n",
        "            # Take a batch of images and labels\n",
        "            x_batch, y_true_batch = data.train.next_batch(batch_size)\n",
        "            feed_dict_train = {x: x_batch, y_true: y_true_batch}\n",
        "            \n",
        "            # Run optimizer on each batch\n",
        "            sess.run(optimizer, feed_dict=feed_dict_train)\n",
        "            \n",
        "            # Accuracy and loss Calculation per batch\n",
        "            train_accuracy += sess.run(accuracy, feed_dict=feed_dict_train)\n",
        "            train_loss     += sess.run(cost, feed_dict=feed_dict_train) \n",
        "          \n",
        "        train_accuracy /= int(len(data.train.labels)/batch_size)\n",
        "        train_loss /= int(len(data.train.labels)/batch_size)\n",
        "        \n",
        "        # Validating the model on validation set\n",
        "        vali_accuracy = sess.run(accuracy, feed_dict={x:data.validation.images, y_true:data.validation.labels})\n",
        "        vali_loss = sess.run(cost, feed_dict={x:data.validation.images, y_true:data.validation.labels})\n",
        "        \n",
        "        print(\"\\n Epoch :\"+str(epoch+1))\n",
        "        \n",
        "        #To get Accuracy metrics  \n",
        "        print(\"\\t Accuracy:\")\n",
        "        print(\"\\t-------\")\n",
        "        print (\"\\t Train Accuracy     :\\t{}\".format(train_accuracy))\n",
        "        print (\"\\t Validation Accuracy:\\t{}\".format(vali_accuracy))\n",
        "        \n",
        "        #To get Loss metrics\n",
        "        print(\"\\t Loss:\")\n",
        "        print(\"\\t------\")\n",
        "        print (\"\\t Train Loss     :\\t{}\".format(train_loss))\n",
        "        print (\"\\t Validation Loss:\\t{}\".format(vali_loss))\n",
        "        \n",
        "        #To get Error metrics\n",
        "        print(\"\\t Error:\")\n",
        "        print(\"\\t------\")\n",
        "        print (\"\\t Train Error     :\\t{}\".format(1-float(train_accuracy)))\n",
        "        print (\"\\t Validation Error:\\t{}\".format(1-float(vali_accuracy)))\n",
        "        \n",
        "        trainloss.append(float(train_loss))\n",
        "        validloss.append(float(vali_loss))\n",
        "        trainerror.append(1-float(train_accuracy))\n",
        "        validerror.append(1-float(vali_accuracy))\n",
        "        epoch_n.append(int(epoch+1))\n",
        "            \n",
        "        "
      ],
      "execution_count": 10,
      "outputs": [
        {
          "output_type": "stream",
          "text": [
            "\n",
            " Epoch :1\n",
            "\t Accuracy:\n",
            "\t-------\n",
            "\t Train Accuracy     :\t0.4322977299185099\n",
            "\t Validation Accuracy:\t0.870199978351593\n",
            "\t Loss:\n",
            "\t------\n",
            "\t Train Loss     :\t1.7216136253615613\n",
            "\t Validation Loss:\t0.44414326548576355\n",
            "\t Error:\n",
            "\t------\n",
            "\t Train Error     :\t0.5677022700814901\n",
            "\t Validation Error:\t0.12980002164840698\n",
            "\n",
            " Epoch :2\n",
            "\t Accuracy:\n",
            "\t-------\n",
            "\t Train Accuracy     :\t0.9418291618160652\n",
            "\t Validation Accuracy:\t0.9549999833106995\n",
            "\t Loss:\n",
            "\t------\n",
            "\t Train Loss     :\t0.20585742979651975\n",
            "\t Validation Loss:\t0.14403410255908966\n",
            "\t Error:\n",
            "\t------\n",
            "\t Train Error     :\t0.05817083818393476\n",
            "\t Validation Error:\t0.04500001668930054\n",
            "\n",
            " Epoch :3\n",
            "\t Accuracy:\n",
            "\t-------\n",
            "\t Train Accuracy     :\t0.9790817811408614\n",
            "\t Validation Accuracy:\t0.9675999879837036\n",
            "\t Loss:\n",
            "\t------\n",
            "\t Train Loss     :\t0.0807461429656211\n",
            "\t Validation Loss:\t0.1167488619685173\n",
            "\t Error:\n",
            "\t------\n",
            "\t Train Error     :\t0.020918218859138582\n",
            "\t Validation Error:\t0.03240001201629639\n",
            "\n",
            " Epoch :4\n",
            "\t Accuracy:\n",
            "\t-------\n",
            "\t Train Accuracy     :\t0.9885222642607684\n",
            "\t Validation Accuracy:\t0.9729999899864197\n",
            "\t Loss:\n",
            "\t------\n",
            "\t Train Loss     :\t0.050849574696645576\n",
            "\t Validation Loss:\t0.09363993257284164\n",
            "\t Error:\n",
            "\t------\n",
            "\t Train Error     :\t0.01147773573923161\n",
            "\t Validation Error:\t0.027000010013580322\n",
            "\n",
            " Epoch :5\n",
            "\t Accuracy:\n",
            "\t-------\n",
            "\t Train Accuracy     :\t0.9925422002328289\n",
            "\t Validation Accuracy:\t0.9801999926567078\n",
            "\t Loss:\n",
            "\t------\n",
            "\t Train Loss     :\t0.03605351867793915\n",
            "\t Validation Loss:\t0.07305916398763657\n",
            "\t Error:\n",
            "\t------\n",
            "\t Train Error     :\t0.007457799767171092\n",
            "\t Validation Error:\t0.019800007343292236\n",
            "\n",
            " Epoch :6\n",
            "\t Accuracy:\n",
            "\t-------\n",
            "\t Train Accuracy     :\t0.9946340221187427\n",
            "\t Validation Accuracy:\t0.9815999865531921\n",
            "\t Loss:\n",
            "\t------\n",
            "\t Train Loss     :\t0.028002775527376407\n",
            "\t Validation Loss:\t0.060735516250133514\n",
            "\t Error:\n",
            "\t------\n",
            "\t Train Error     :\t0.005365977881257256\n",
            "\t Validation Error:\t0.01840001344680786\n",
            "\n",
            " Epoch :7\n",
            "\t Accuracy:\n",
            "\t-------\n",
            "\t Train Accuracy     :\t0.9963802386495926\n",
            "\t Validation Accuracy:\t0.9832000136375427\n",
            "\t Loss:\n",
            "\t------\n",
            "\t Train Loss     :\t0.021429014584370503\n",
            "\t Validation Loss:\t0.05867866799235344\n",
            "\t Error:\n",
            "\t------\n",
            "\t Train Error     :\t0.0036197613504074244\n",
            "\t Validation Error:\t0.016799986362457275\n",
            "\n",
            " Epoch :8\n",
            "\t Accuracy:\n",
            "\t-------\n",
            "\t Train Accuracy     :\t0.99710782887078\n",
            "\t Validation Accuracy:\t0.9850000143051147\n",
            "\t Loss:\n",
            "\t------\n",
            "\t Train Loss     :\t0.018104124262146176\n",
            "\t Validation Loss:\t0.05430134758353233\n",
            "\t Error:\n",
            "\t------\n",
            "\t Train Error     :\t0.0028921711292200225\n",
            "\t Validation Error:\t0.014999985694885254\n",
            "\n",
            " Epoch :9\n",
            "\t Accuracy:\n",
            "\t-------\n",
            "\t Train Accuracy     :\t0.9978354190919674\n",
            "\t Validation Accuracy:\t0.9850000143051147\n",
            "\t Loss:\n",
            "\t------\n",
            "\t Train Loss     :\t0.01501364726004027\n",
            "\t Validation Loss:\t0.050985876470804214\n",
            "\t Error:\n",
            "\t------\n",
            "\t Train Error     :\t0.0021645809080326206\n",
            "\t Validation Error:\t0.014999985694885254\n",
            "\n",
            " Epoch :10\n",
            "\t Accuracy:\n",
            "\t-------\n",
            "\t Train Accuracy     :\t0.9985993888242142\n",
            "\t Validation Accuracy:\t0.9865999817848206\n",
            "\t Loss:\n",
            "\t------\n",
            "\t Train Loss     :\t0.011738798149419045\n",
            "\t Validation Loss:\t0.045869406312704086\n",
            "\t Error:\n",
            "\t------\n",
            "\t Train Error     :\t0.0014006111757858264\n",
            "\t Validation Error:\t0.013400018215179443\n"
          ],
          "name": "stdout"
        }
      ]
    },
    {
      "metadata": {
        "id": "r_rsghKG-Xrt",
        "colab_type": "text"
      },
      "cell_type": "markdown",
      "source": [
        "### Get the parameter count and the best validation accuracy for the model"
      ]
    },
    {
      "metadata": {
        "id": "hNbZZw207KUX",
        "colab_type": "code",
        "colab": {
          "base_uri": "https://localhost:8080/",
          "height": 51
        },
        "outputId": "07df7345-ba52-40bd-95da-f05b5d9a53ba"
      },
      "cell_type": "code",
      "source": [
        "ParameterCount = np.sum([np.product([xi.value for xi in x.get_shape()]) for x in tf.trainable_variables()])\n",
        "\n",
        "print(\"\\t Best Validation Accuracy is:\\t{}\".format(1-np.sort(validerror)[0]))\n",
        "print(\"\\t Total number of parameters is:\\t{}\".format(ParameterCount))"
      ],
      "execution_count": 11,
      "outputs": [
        {
          "output_type": "stream",
          "text": [
            "\t Best Validation Accuracy is:\t0.9865999817848206\n",
            "\t Total number of parameters is:\t937972\n"
          ],
          "name": "stdout"
        }
      ]
    },
    {
      "metadata": {
        "id": "wVslceHPK5NY",
        "colab_type": "text"
      },
      "cell_type": "markdown",
      "source": [
        "### Plot train and validation loss per epoch"
      ]
    },
    {
      "metadata": {
        "id": "yRd9MK564a1R",
        "colab_type": "code",
        "outputId": "91c6fd4e-7071-416d-c159-5198b5d545b6",
        "colab": {
          "base_uri": "https://localhost:8080/",
          "height": 294
        }
      },
      "cell_type": "code",
      "source": [
        "#Plot the train and valid loss at end of each epoch\n",
        "\n",
        "p1=plt.plot(epoch_n, trainloss, label=\"trainloss\", color='green', marker='o', linestyle='dashed',linewidth=2, markersize=4)\n",
        "p2=plt.plot(epoch_n, validloss, label=\"valloss\", color='red', marker='o', linestyle='dashed',linewidth=2, markersize=4)\n",
        "plt.xlabel('Epoch_Number')\n",
        "plt.ylabel('Loss')\n",
        "plt.title('TrainLoss VS ValidLoss')\n",
        "plt.legend((p1[0], p2[0]), ('Train_Loss', 'Validation_Loss'))\n",
        "plt.savefig('TrainlossVSValloss.png', bbox_inches='tight')\n",
        "files.download('TrainlossVSValloss.png')\n",
        "plt.show() \n"
      ],
      "execution_count": 12,
      "outputs": [
        {
          "output_type": "display_data",
          "data": {
            "image/png": "[encoded data removed]",
            "text/plain": [
              "<Figure size 432x288 with 1 Axes>"
            ]
          },
          "metadata": {
            "tags": []
          }
        }
      ]
    },
    {
      "metadata": {
        "id": "y41x82_lIJLY",
        "colab_type": "text"
      },
      "cell_type": "markdown",
      "source": [
        "### Plot train and validation error per epoch"
      ]
    },
    {
      "metadata": {
        "id": "9OJcDcieIN3J",
        "colab_type": "code",
        "outputId": "d9cfc75d-31f8-4926-84d0-fa9e0278559b",
        "colab": {
          "base_uri": "https://localhost:8080/",
          "height": 294
        }
      },
      "cell_type": "code",
      "source": [
        "#Plot the train and valid error at end of each epoch\n",
        "\n",
        "p1=plt.plot(epoch_n, trainerror, label=\"trainerror\", color='green', marker='o', linestyle='dashed',linewidth=2, markersize=4)\n",
        "p2=plt.plot(epoch_n, validerror, label=\"valerror\", color='red', marker='o', linestyle='dashed',linewidth=2, markersize=4)\n",
        "plt.xlabel('Epoch_Number')\n",
        "plt.ylabel('Error')\n",
        "plt.title('TrainError VS ValidError')\n",
        "plt.legend((p1[0], p2[0]), ('Train_Error', 'Validation_Error'))\n",
        "plt.savefig('TrainerrorVSValerror.png', bbox_inches='tight')\n",
        "files.download('TrainerrorVSValerror.png')\n",
        "plt.show() "
      ],
      "execution_count": 13,
      "outputs": [
        {
          "output_type": "display_data",
          "data": {
            "image/png": "[encoded data removed]",
            "text/plain": [
              "<Figure size 432x288 with 1 Axes>"
            ]
          },
          "metadata": {
            "tags": []
          }
        }
      ]
    },
    {
      "metadata": {
        "id": "rNr-uim5SLDy",
        "colab_type": "text"
      },
      "cell_type": "markdown",
      "source": [
        "### Get all trainable tf variables along with shape \n",
        "\n",
        "taken from : https://stackoverflow.com/questions/38160940/how-to-count-total-number-of-trainable-parameters-in-a-tensorflow-model"
      ]
    },
    {
      "metadata": {
        "id": "cr2FFnqNuRXA",
        "colab_type": "code",
        "colab": {
          "base_uri": "https://localhost:8080/",
          "height": 578
        },
        "outputId": "ef69eb2b-e148-4bb1-93de-4cfe5b7368c2"
      },
      "cell_type": "code",
      "source": [
        "total_parameters = 0\n",
        "sum = 0\n",
        "for variable in tf.trainable_variables():\n",
        "    shape = variable.get_shape()\n",
        "    print(shape)\n",
        "    variable_parameters = 1\n",
        "    for dim in shape:\n",
        "        variable_parameters *= dim.value\n",
        "    print(variable_parameters)\n",
        "    total_parameters += variable_parameters\n",
        "print(total_parameters)\n"
      ],
      "execution_count": 15,
      "outputs": [
        {
          "output_type": "stream",
          "text": [
            "(9, 9, 1, 16)\n",
            "1296\n",
            "(16,)\n",
            "16\n",
            "(9, 9, 16, 32)\n",
            "41472\n",
            "(32,)\n",
            "32\n",
            "(9, 9, 32, 42)\n",
            "108864\n",
            "(42,)\n",
            "42\n",
            "(9, 9, 42, 64)\n",
            "217728\n",
            "(64,)\n",
            "64\n",
            "(5, 5, 64, 128)\n",
            "204800\n",
            "(128,)\n",
            "128\n",
            "(3, 3, 128, 256)\n",
            "294912\n",
            "(256,)\n",
            "256\n",
            "(256, 256)\n",
            "65536\n",
            "(256,)\n",
            "256\n",
            "(256, 10)\n",
            "2560\n",
            "(10,)\n",
            "10\n",
            "937972\n"
          ],
          "name": "stdout"
        }
      ]
    }
  ]
}