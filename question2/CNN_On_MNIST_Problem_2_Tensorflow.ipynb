{
  "nbformat": 4,
  "nbformat_minor": 0,
  "metadata": {
    "colab": {
      "name": "CNN_On_MNIST_Problem-2_Tensorflow.ipynb",
      "version": "0.3.2",
      "provenance": []
    },
    "kernelspec": {
      "name": "python3",
      "display_name": "Python 3"
    },
    "accelerator": "GPU"
  },
  "cells": [
    {
      "metadata": {
        "id": "UcuFB-vccia7",
        "colab_type": "text"
      },
      "cell_type": "markdown",
      "source": [
        "<center><h1> Problem2 - CNN on MNIST </h1><center>"
      ]
    },
    {
      "metadata": {
        "id": "92S9U4rUcibA",
        "colab_type": "text"
      },
      "cell_type": "markdown",
      "source": [
        "### Import the required packages"
      ]
    },
    {
      "metadata": {
        "id": "cjTyS3ZdcibD",
        "colab_type": "code",
        "outputId": "9750bf82-5557-405b-8f41-4a0503f7fadb",
        "colab": {
          "base_uri": "https://localhost:8080/",
          "height": 34
        }
      },
      "cell_type": "code",
      "source": [
        "import tensorflow as tf\n",
        "\n",
        "#To check if tensorflow can access the gpu\n",
        "device_name = tf.test.gpu_device_name()\n",
        "if device_name != '/device:GPU:0':\n",
        "  raise SystemError('GPU device not found')\n",
        "print('Found GPU at: {}'.format(device_name))\n",
        "\n",
        "import numpy as np\n",
        "import matplotlib.pyplot as plt\n",
        "%matplotlib inline\n",
        "import time"
      ],
      "execution_count": 1,
      "outputs": [
        {
          "output_type": "stream",
          "text": [
            "Found GPU at: /device:GPU:0\n"
          ],
          "name": "stdout"
        }
      ]
    },
    {
      "metadata": {
        "id": "sq8yfD0ZcibP",
        "colab_type": "text"
      },
      "cell_type": "markdown",
      "source": [
        "### Load MNIST Data"
      ]
    },
    {
      "metadata": {
        "id": "TS2uoh5NcibS",
        "colab_type": "code",
        "outputId": "9b2a61cc-cd63-45e5-d2c7-1b6e14b8e997",
        "colab": {
          "base_uri": "https://localhost:8080/",
          "height": 411
        }
      },
      "cell_type": "code",
      "source": [
        "from tensorflow.examples.tutorials.mnist import input_data\n",
        "data = input_data.read_data_sets('data/MNIST/', one_hot=True)"
      ],
      "execution_count": 2,
      "outputs": [
        {
          "output_type": "stream",
          "text": [
            "WARNING:tensorflow:From <ipython-input-2-37adf088ce13>:2: read_data_sets (from tensorflow.contrib.learn.python.learn.datasets.mnist) is deprecated and will be removed in a future version.\n",
            "Instructions for updating:\n",
            "Please use alternatives such as official/mnist/dataset.py from tensorflow/models.\n",
            "WARNING:tensorflow:From /usr/local/lib/python3.6/dist-packages/tensorflow/contrib/learn/python/learn/datasets/mnist.py:260: maybe_download (from tensorflow.contrib.learn.python.learn.datasets.base) is deprecated and will be removed in a future version.\n",
            "Instructions for updating:\n",
            "Please write your own downloading logic.\n",
            "WARNING:tensorflow:From /usr/local/lib/python3.6/dist-packages/tensorflow/contrib/learn/python/learn/datasets/mnist.py:262: extract_images (from tensorflow.contrib.learn.python.learn.datasets.mnist) is deprecated and will be removed in a future version.\n",
            "Instructions for updating:\n",
            "Please use tf.data to implement this functionality.\n",
            "Extracting data/MNIST/train-images-idx3-ubyte.gz\n",
            "WARNING:tensorflow:From /usr/local/lib/python3.6/dist-packages/tensorflow/contrib/learn/python/learn/datasets/mnist.py:267: extract_labels (from tensorflow.contrib.learn.python.learn.datasets.mnist) is deprecated and will be removed in a future version.\n",
            "Instructions for updating:\n",
            "Please use tf.data to implement this functionality.\n",
            "Extracting data/MNIST/train-labels-idx1-ubyte.gz\n",
            "WARNING:tensorflow:From /usr/local/lib/python3.6/dist-packages/tensorflow/contrib/learn/python/learn/datasets/mnist.py:110: dense_to_one_hot (from tensorflow.contrib.learn.python.learn.datasets.mnist) is deprecated and will be removed in a future version.\n",
            "Instructions for updating:\n",
            "Please use tf.one_hot on tensors.\n",
            "Extracting data/MNIST/t10k-images-idx3-ubyte.gz\n",
            "Extracting data/MNIST/t10k-labels-idx1-ubyte.gz\n",
            "WARNING:tensorflow:From /usr/local/lib/python3.6/dist-packages/tensorflow/contrib/learn/python/learn/datasets/mnist.py:290: DataSet.__init__ (from tensorflow.contrib.learn.python.learn.datasets.mnist) is deprecated and will be removed in a future version.\n",
            "Instructions for updating:\n",
            "Please use alternatives such as official/mnist/dataset.py from tensorflow/models.\n"
          ],
          "name": "stdout"
        }
      ]
    },
    {
      "metadata": {
        "id": "YzsiaaAEtguy",
        "colab_type": "text"
      },
      "cell_type": "markdown",
      "source": [
        "### Check the train-valid-test data size"
      ]
    },
    {
      "metadata": {
        "id": "ReDb5xi5cibd",
        "colab_type": "code",
        "outputId": "ecc4360b-94a5-4095-b280-0114804db105",
        "colab": {
          "base_uri": "https://localhost:8080/",
          "height": 68
        }
      },
      "cell_type": "code",
      "source": [
        "print(\"Num of samples-Train: {}\".format(len(data.train.labels)))\n",
        "print(\"Num of samples-Test: {}\".format(len(data.test.labels)))\n",
        "print(\"Num of samples-Valid: {}\".format(len(data.validation.labels)))"
      ],
      "execution_count": 3,
      "outputs": [
        {
          "output_type": "stream",
          "text": [
            "Num of samples-Train: 55000\n",
            "Num of samples-Test: 10000\n",
            "Num of samples-Valid: 5000\n"
          ],
          "name": "stdout"
        }
      ]
    },
    {
      "metadata": {
        "collapsed": true,
        "id": "jIGNR3UIcibt",
        "colab_type": "text"
      },
      "cell_type": "markdown",
      "source": [
        "### Initalization of the placeholder variables"
      ]
    },
    {
      "metadata": {
        "id": "js9CeQAWcibw",
        "colab_type": "code",
        "outputId": "2ed18817-e5d4-4658-9d94-966a0c089702",
        "colab": {
          "base_uri": "https://localhost:8080/",
          "height": 88
        }
      },
      "cell_type": "code",
      "source": [
        "x = tf.placeholder(tf.float32, shape=[None, 28*28], name='X')\n",
        "x_image = tf.reshape(x, [-1, 28, 28, 1])\n",
        "\n",
        "y_true = tf.placeholder(tf.float32, shape=[None, 10], name='y_true')\n",
        "y_true_cls = tf.argmax(y_true, dimension=1)"
      ],
      "execution_count": 4,
      "outputs": [
        {
          "output_type": "stream",
          "text": [
            "WARNING:tensorflow:From <ipython-input-4-d592af0f7244>:5: calling argmax (from tensorflow.python.ops.math_ops) with dimension is deprecated and will be removed in a future version.\n",
            "Instructions for updating:\n",
            "Use the `axis` argument instead\n"
          ],
          "name": "stdout"
        }
      ]
    },
    {
      "metadata": {
        "id": "wxYaKUeqcib2",
        "colab_type": "text"
      },
      "cell_type": "markdown",
      "source": [
        "### Functions to create basic CNN layers"
      ]
    },
    {
      "metadata": {
        "id": "cDqWcULhcib5",
        "colab_type": "code",
        "colab": {}
      },
      "cell_type": "code",
      "source": [
        "#Create convolution layer\n",
        "def conv_layer(input, num_input_channels, filter_size, num_filters, name):\n",
        "    \n",
        "    #Filter-shape\n",
        "    shape = [filter_size, filter_size, num_input_channels, num_filters]\n",
        "\n",
        "    # Weights and Biases\n",
        "    weights = tf.Variable(tf.truncated_normal(shape, stddev=0.05))\n",
        "    #weights = tf.Variable(tf.constant(0, shape))\n",
        "    biases = tf.Variable(tf.constant(0.01, shape=[num_filters]))\n",
        "\n",
        "    layer = tf.nn.conv2d(input=input, filter=weights, strides=[1, 1, 1, 1], padding='SAME')\n",
        "    layer += biases\n",
        "\n",
        "    return layer, weights\n",
        "\n",
        "#Create pool layer      \n",
        "def pool_layer(input, name):\n",
        "    \n",
        "    layer = tf.nn.max_pool(value=input, ksize=[1, 2, 2, 1], strides=[1, 2, 2, 1], padding='SAME')\n",
        "\n",
        "    return layer\n",
        "\n",
        "#Create ReLU Activation Layer\n",
        "def relu_layer(input, name):\n",
        "\n",
        "    layer = tf.nn.relu(input)\n",
        "\n",
        "    return layer\n",
        "\n",
        "#Create Fully Connected Layer\n",
        "def fc_layer(input, num_inputs, num_outputs, name):\n",
        "    \n",
        "    weights = tf.Variable(tf.truncated_normal([num_inputs, num_outputs], stddev=0.05))\n",
        "    biases = tf.Variable(tf.constant(0.01, shape=[num_outputs]))\n",
        "\n",
        "    layer = tf.matmul(input, weights) + biases\n",
        "\n",
        "    return layer"
      ],
      "execution_count": 0,
      "outputs": []
    },
    {
      "metadata": {
        "id": "r345xE5Fa2cR",
        "colab_type": "text"
      },
      "cell_type": "markdown",
      "source": [
        "###Convolutional Neural Network - Architecture for Classification - 3 Conv layers"
      ]
    },
    {
      "metadata": {
        "id": "vCQ9xZrUadwm",
        "colab_type": "code",
        "outputId": "a51f014f-e6a2-4a48-9915-ba5917c7c859",
        "colab": {
          "base_uri": "https://localhost:8080/",
          "height": 88
        }
      },
      "cell_type": "code",
      "source": [
        "# Convolution 1\n",
        "conv1, weights_conv1 = conv_layer(input=x_image, num_input_channels=1, filter_size=7, num_filters=8, name =\"conv1\")\n",
        "pool1 = pool_layer(conv1, name=\"pool1\")\n",
        "relu1 = relu_layer(pool1, name=\"relu1\")\n",
        "\n",
        "# Convolution 2\n",
        "conv2, weights_conv2 = conv_layer(input=relu1, num_input_channels=8, filter_size=7, num_filters=32, name= \"conv2\")\n",
        "pool2 = pool_layer(conv2, name=\"pool2\")\n",
        "relu2 = relu_layer(pool2, name=\"relu2\")\n",
        "\n",
        "# Convolution 3\n",
        "conv3, weights_conv3 = conv_layer(input=relu2, num_input_channels=32, filter_size=7, num_filters=64, name= \"conv3\")\n",
        "pool3 = pool_layer(conv3, name=\"pool3\")\n",
        "relu3 = relu_layer(pool3, name=\"relu3\")\n",
        "\n",
        "# Flatten Layer\n",
        "num_features = relu3.get_shape()[1:4].num_elements()\n",
        "flat = tf.reshape(relu3, [-1, num_features])\n",
        "\n",
        "# Fully-Connected Layer 1\n",
        "fc1 = fc_layer(flat, num_inputs=num_features, num_outputs=128, name=\"fc1\")\n",
        "relu4 = relu_layer(fc1, name=\"relu4\")\n",
        "\n",
        "# Fully-Connected Layer 2\n",
        "fc2 = fc_layer(input=relu4, num_inputs=128, num_outputs=10, name=\"fc2\")"
      ],
      "execution_count": 6,
      "outputs": [
        {
          "output_type": "stream",
          "text": [
            "WARNING:tensorflow:From /usr/local/lib/python3.6/dist-packages/tensorflow/python/framework/op_def_library.py:263: colocate_with (from tensorflow.python.framework.ops) is deprecated and will be removed in a future version.\n",
            "Instructions for updating:\n",
            "Colocations handled automatically by placer.\n"
          ],
          "name": "stdout"
        }
      ]
    },
    {
      "metadata": {
        "id": "q11PKhpchZ8Y",
        "colab_type": "text"
      },
      "cell_type": "markdown",
      "source": [
        "###  Parameter count in the 3 layer CNN\n",
        "\n",
        "\n",
        "  \n",
        "  | Name                                        | size                                              |parameters                                              |\n",
        "| ---------------------------------------------- |:-----------------------------------------------:| -----------------------------------------------------------:|\n",
        "| 0  input      | 1x28x28 | 0 |\n",
        "| 1  conv2d1     |  8x28x28       |   (7x7x1+1)*8   =     400 |\n",
        "| 2  maxpool1 |  8x28x28       |    0 |\n",
        "| 3  conv2d2     |  32x28x28       |    (7x7x8+1)x32  =   12576 |\n",
        "| 4  maxpool2 |  32x28x28            |    0 |\n",
        "| 5  conv2d3     |  64x28x28       |    (7x7x32+1)x64  =   100416 |\n",
        "| 6  maxpool3 |  64x28x28            |    0 |\n",
        "|7  dense  |128   | (64x7x7+1)*128 = 401536 |\n",
        "| 8  output |10 |(128+1)x10     =   1290 |\n",
        "\n",
        "|Total number of learnable parameters in the CNN|Train Accuracy|Validation Accuracy|\n",
        "|-------------------------------------------------------------------------------|------------------------|--------------------------------|\n",
        "| 5,16,218  (approx .5million)|99.74 |98.40 |"
      ]
    },
    {
      "metadata": {
        "id": "XGTKiU6d7UZq",
        "colab_type": "text"
      },
      "cell_type": "markdown",
      "source": [
        "### Output Parameterization, Loss Calculation, Optimization ,Evaluation"
      ]
    },
    {
      "metadata": {
        "id": "9mCfLrD9iR7u",
        "colab_type": "code",
        "colab": {}
      },
      "cell_type": "code",
      "source": [
        "# Use Softmax function to parameterize the output\n",
        "y_pred = tf.nn.softmax(fc2)\n",
        "y_pred_cls = tf.argmax(y_pred, dimension=1)\n",
        "\n",
        "# Define loss and optimizer\n",
        "cross_entropy = tf.nn.softmax_cross_entropy_with_logits_v2(logits=fc2, labels=y_true)\n",
        "cost = tf.reduce_mean(cross_entropy)\n",
        "\n",
        "optimizer = tf.train.GradientDescentOptimizer(learning_rate=0.01).minimize(cost)\n",
        "\n",
        "# Evaluate model\n",
        "correct_prediction = tf.equal(y_pred_cls, y_true_cls)\n",
        "accuracy = tf.reduce_mean(tf.cast(correct_prediction, tf.float32))"
      ],
      "execution_count": 0,
      "outputs": []
    },
    {
      "metadata": {
        "id": "oTdlu2Xgcic3",
        "colab_type": "text"
      },
      "cell_type": "markdown",
      "source": [
        "### Set the n(epochs) and batch size"
      ]
    },
    {
      "metadata": {
        "id": "j9PFCUDecic6",
        "colab_type": "code",
        "colab": {}
      },
      "cell_type": "code",
      "source": [
        "num_epochs = 10\n",
        "batch_size = 64\n",
        "\n",
        "trainloss, trainerror, validloss, validerror, epoch_n = ([] for i in range(5))"
      ],
      "execution_count": 0,
      "outputs": []
    },
    {
      "metadata": {
        "id": "4EfHuViacic9",
        "colab_type": "text"
      },
      "cell_type": "markdown",
      "source": [
        "### TensorFlow Session - Start training for the specified n(epochs)\n",
        "\n",
        "\n"
      ]
    },
    {
      "metadata": {
        "id": "iOv86c6ecic9",
        "colab_type": "code",
        "outputId": "834d5a55-3ed4-4f7c-efc9-9b43a17120c3",
        "colab": {
          "base_uri": "https://localhost:8080/",
          "height": 2397
        }
      },
      "cell_type": "code",
      "source": [
        "with tf.Session() as sess:\n",
        "   \n",
        "    sess.run(tf.global_variables_initializer())\n",
        "    \n",
        "    for epoch in range(num_epochs):\n",
        "        \n",
        "        train_accuracy = 0\n",
        "        train_loss     = 0\n",
        "        \n",
        "        for batch in range(0, int(len(data.train.labels)/batch_size)):\n",
        "            \n",
        "            # Take a batch of images and labels\n",
        "            x_batch, y_true_batch = data.train.next_batch(batch_size)\n",
        "            feed_dict_train = {x: x_batch, y_true: y_true_batch}\n",
        "            \n",
        "            # Run optimizer on each batch\n",
        "            sess.run(optimizer, feed_dict=feed_dict_train)\n",
        "            \n",
        "            # Accuracy and loss Calculation per batch\n",
        "            train_accuracy += sess.run(accuracy, feed_dict=feed_dict_train)\n",
        "            train_loss     += sess.run(cost, feed_dict=feed_dict_train) \n",
        "          \n",
        "        train_accuracy /= int(len(data.train.labels)/batch_size)\n",
        "        train_loss /= int(len(data.train.labels)/batch_size)\n",
        "        \n",
        "        # Validating the model on validation set\n",
        "        vali_accuracy = sess.run(accuracy, feed_dict={x:data.validation.images, y_true:data.validation.labels})\n",
        "        vali_loss = sess.run(cost, feed_dict={x:data.validation.images, y_true:data.validation.labels})\n",
        "        \n",
        "        print(\"\\n Epoch :\"+str(epoch+1))\n",
        "        \n",
        "        #To get Accuracy metrics  \n",
        "        print(\"\\t Accuracy:\")\n",
        "        print(\"\\t-------\")\n",
        "        print (\"\\t Train Accuracy     :\\t{}\".format(train_accuracy))\n",
        "        print (\"\\t Validation Accuracy:\\t{}\".format(vali_accuracy))\n",
        "        \n",
        "        #To get Loss metrics\n",
        "        print(\"\\t Loss:\")\n",
        "        print(\"\\t------\")\n",
        "        print (\"\\t Train Loss     :\\t{}\".format(train_loss))\n",
        "        print (\"\\t Validation Loss:\\t{}\".format(vali_loss))\n",
        "        \n",
        "        #To get Error metrics\n",
        "        print(\"\\t Error:\")\n",
        "        print(\"\\t------\")\n",
        "        print (\"\\t Train Error     :\\t{}\".format(1-float(train_accuracy)))\n",
        "        print (\"\\t Validation Error:\\t{}\".format(1-float(vali_accuracy)))\n",
        "        \n",
        "        trainloss.append(float(train_loss))\n",
        "        validloss.append(float(vali_loss))\n",
        "        trainerror.append(1-float(train_accuracy))\n",
        "        validerror.append(1-float(vali_accuracy))\n",
        "        epoch_n.append(int(epoch+1))\n",
        "            \n",
        "        "
      ],
      "execution_count": 9,
      "outputs": [
        {
          "output_type": "stream",
          "text": [
            "\n",
            " Epoch :1\n",
            "\t Accuracy:\n",
            "\t-------\n",
            "\t Train Accuracy     :\t0.7454343713620489\n",
            "\t Validation Accuracy:\t0.9312000274658203\n",
            "\t Loss:\n",
            "\t------\n",
            "\t Train Loss     :\t0.9238551312816851\n",
            "\t Validation Loss:\t0.22885426878929138\n",
            "\t Error:\n",
            "\t------\n",
            "\t Train Error     :\t0.25456562863795107\n",
            "\t Validation Error:\t0.06879997253417969\n",
            "\n",
            " Epoch :2\n",
            "\t Accuracy:\n",
            "\t-------\n",
            "\t Train Accuracy     :\t0.9681497380675204\n",
            "\t Validation Accuracy:\t0.9620000123977661\n",
            "\t Loss:\n",
            "\t------\n",
            "\t Train Loss     :\t0.12438009701651868\n",
            "\t Validation Loss:\t0.13078054785728455\n",
            "\t Error:\n",
            "\t------\n",
            "\t Train Error     :\t0.03185026193247964\n",
            "\t Validation Error:\t0.03799998760223389\n",
            "\n",
            " Epoch :3\n",
            "\t Accuracy:\n",
            "\t-------\n",
            "\t Train Accuracy     :\t0.9835200814901047\n",
            "\t Validation Accuracy:\t0.972599983215332\n",
            "\t Loss:\n",
            "\t------\n",
            "\t Train Loss     :\t0.07117689029683334\n",
            "\t Validation Loss:\t0.09047017991542816\n",
            "\t Error:\n",
            "\t------\n",
            "\t Train Error     :\t0.016479918509895275\n",
            "\t Validation Error:\t0.02740001678466797\n",
            "\n",
            " Epoch :4\n",
            "\t Accuracy:\n",
            "\t-------\n",
            "\t Train Accuracy     :\t0.9887769208381839\n",
            "\t Validation Accuracy:\t0.975600004196167\n",
            "\t Loss:\n",
            "\t------\n",
            "\t Train Loss     :\t0.05092894074824726\n",
            "\t Validation Loss:\t0.08333233743906021\n",
            "\t Error:\n",
            "\t------\n",
            "\t Train Error     :\t0.011223079161816085\n",
            "\t Validation Error:\t0.024399995803833008\n",
            "\n",
            " Epoch :5\n",
            "\t Accuracy:\n",
            "\t-------\n",
            "\t Train Accuracy     :\t0.9919055587892899\n",
            "\t Validation Accuracy:\t0.9815999865531921\n",
            "\t Loss:\n",
            "\t------\n",
            "\t Train Loss     :\t0.040111710970659714\n",
            "\t Validation Loss:\t0.06240402162075043\n",
            "\t Error:\n",
            "\t------\n",
            "\t Train Error     :\t0.008094441210710124\n",
            "\t Validation Error:\t0.01840001344680786\n",
            "\n",
            " Epoch :6\n",
            "\t Accuracy:\n",
            "\t-------\n",
            "\t Train Accuracy     :\t0.9938336728754366\n",
            "\t Validation Accuracy:\t0.9833999872207642\n",
            "\t Loss:\n",
            "\t------\n",
            "\t Train Loss     :\t0.03238665304993463\n",
            "\t Validation Loss:\t0.05796279385685921\n",
            "\t Error:\n",
            "\t------\n",
            "\t Train Error     :\t0.006166327124563442\n",
            "\t Validation Error:\t0.01660001277923584\n",
            "\n",
            " Epoch :7\n",
            "\t Accuracy:\n",
            "\t-------\n",
            "\t Train Accuracy     :\t0.995197904540163\n",
            "\t Validation Accuracy:\t0.9843999743461609\n",
            "\t Loss:\n",
            "\t------\n",
            "\t Train Loss     :\t0.027118213487489797\n",
            "\t Validation Loss:\t0.05487622693181038\n",
            "\t Error:\n",
            "\t------\n",
            "\t Train Error     :\t0.004802095459837008\n",
            "\t Validation Error:\t0.015600025653839111\n",
            "\n",
            " Epoch :8\n",
            "\t Accuracy:\n",
            "\t-------\n",
            "\t Train Accuracy     :\t0.9963620488940629\n",
            "\t Validation Accuracy:\t0.9805999994277954\n",
            "\t Loss:\n",
            "\t------\n",
            "\t Train Loss     :\t0.023294963236687852\n",
            "\t Validation Loss:\t0.06927651911973953\n",
            "\t Error:\n",
            "\t------\n",
            "\t Train Error     :\t0.0036379511059371206\n",
            "\t Validation Error:\t0.01940000057220459\n",
            "\n",
            " Epoch :9\n",
            "\t Accuracy:\n",
            "\t-------\n",
            "\t Train Accuracy     :\t0.9966348952270081\n",
            "\t Validation Accuracy:\t0.9833999872207642\n",
            "\t Loss:\n",
            "\t------\n",
            "\t Train Loss     :\t0.020233370414940475\n",
            "\t Validation Loss:\t0.052101653069257736\n",
            "\t Error:\n",
            "\t------\n",
            "\t Train Error     :\t0.0033651047729919004\n",
            "\t Validation Error:\t0.01660001277923584\n",
            "\n",
            " Epoch :10\n",
            "\t Accuracy:\n",
            "\t-------\n",
            "\t Train Accuracy     :\t0.997453434225844\n",
            "\t Validation Accuracy:\t0.9851999878883362\n",
            "\t Loss:\n",
            "\t------\n",
            "\t Train Loss     :\t0.017588377145809644\n",
            "\t Validation Loss:\t0.05003756657242775\n",
            "\t Error:\n",
            "\t------\n",
            "\t Train Error     :\t0.0025465657741560177\n",
            "\t Validation Error:\t0.014800012111663818\n"
          ],
          "name": "stdout"
        }
      ]
    },
    {
      "metadata": {
        "id": "wVslceHPK5NY",
        "colab_type": "text"
      },
      "cell_type": "markdown",
      "source": [
        "### Plot train and validation loss per epoch"
      ]
    },
    {
      "metadata": {
        "id": "yRd9MK564a1R",
        "colab_type": "code",
        "outputId": "c937219a-853b-424d-9404-2bdb408b0fa3",
        "colab": {
          "base_uri": "https://localhost:8080/",
          "height": 294
        }
      },
      "cell_type": "code",
      "source": [
        "#Plot the train and valid loss at end of each epoch\n",
        "\n",
        "p1=plt.plot(epoch_n, trainloss, label=\"trainloss\", color='green', marker='o', linestyle='dashed',linewidth=2, markersize=4)\n",
        "p2=plt.plot(epoch_n, validloss, label=\"valloss\", color='red', marker='o', linestyle='dashed',linewidth=2, markersize=4)\n",
        "plt.xlabel('Epoch_Number')\n",
        "plt.ylabel('Loss')\n",
        "plt.title('TrainLoss VS ValidLoss')\n",
        "plt.legend((p1[0], p2[0]), ('Train_Loss', 'Validation_Loss'))\n",
        "#from google.colab import files\n",
        "#plt.savefig('TrainlossVSValloss.png', bbox_inches='tight')\n",
        "#files.download('TrainlossVSValloss.png')\n",
        "plt.show() \n"
      ],
      "execution_count": 10,
      "outputs": [
        {
          "output_type": "display_data",
          "data": {
            "image/png": "[encoded data removed]",
            "text/plain": [
              "<Figure size 432x288 with 1 Axes>"
            ]
          },
          "metadata": {
            "tags": []
          }
        }
      ]
    },
    {
      "metadata": {
        "id": "y41x82_lIJLY",
        "colab_type": "text"
      },
      "cell_type": "markdown",
      "source": [
        "### Plot train and validation error per epoch"
      ]
    },
    {
      "metadata": {
        "id": "9OJcDcieIN3J",
        "colab_type": "code",
        "colab": {
          "base_uri": "https://localhost:8080/",
          "height": 294
        },
        "outputId": "3f79a225-f5af-4a31-fdee-38d4bbce28e3"
      },
      "cell_type": "code",
      "source": [
        "#Plot the train and valid error at end of each epoch\n",
        "\n",
        "p1=plt.plot(epoch_n, trainerror, label=\"trainerror\", color='green', marker='o', linestyle='dashed',linewidth=2, markersize=4)\n",
        "p2=plt.plot(epoch_n, validerror, label=\"valerror\", color='red', marker='o', linestyle='dashed',linewidth=2, markersize=4)\n",
        "plt.xlabel('Epoch_Number')\n",
        "plt.ylabel('Error')\n",
        "plt.title('TrainError VS ValidError')\n",
        "plt.legend((p1[0], p2[0]), ('Train_Error', 'Validation_Error'))\n",
        "#from google.colab import files\n",
        "#plt.savefig('TrainerrorVSValerror.png', bbox_inches='tight')\n",
        "#files.download('TrainerrorVSValerror.png')\n",
        "plt.show() "
      ],
      "execution_count": 12,
      "outputs": [
        {
          "output_type": "display_data",
          "data": {
            "image/png": "[encoded data removed]",
            "text/plain": [
              "<Figure size 432x288 with 1 Axes>"
            ]
          },
          "metadata": {
            "tags": []
          }
        }
      ]
    },
    {
      "metadata": {
        "id": "QZz3hARezPD3",
        "colab_type": "code",
        "colab": {}
      },
      "cell_type": "code",
      "source": [
        ""
      ],
      "execution_count": 0,
      "outputs": []
    }
  ]
}